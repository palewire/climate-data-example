{
 "cells": [
  {
   "cell_type": "markdown",
   "id": "849d72ec-ab6c-463c-a22e-feabafb502f4",
   "metadata": {},
   "source": [
    "# ERA5 climate data tutorial\n",
    "\n",
    "By [Ben Welsh](https://palewi.re/who-is-ben-welsh/)\n",
    "\n",
    "This notebook demonstrates how to access, analyze, simplify and visualize the [ERA5](https://cds.climate.copernicus.eu/datasets/reanalysis-era5-single-levels?tab=overview) dataset published by [ECMWF](https://www.ecmwf.int/), the leading European weather agency.\n",
    "\n",
    "You will see how to:\n",
    "\n",
    "* Download hourly temperature data from the Climate Data Store API\n",
    "* Access and explore gridded data with the Python's xarray library\n",
    "* Aggregate hourly data into daily readings\n",
    "* Convert the agency's point-based data into squares for a map\n",
    "* Smooth and simplify the data to make it easier to visualize"
   ]
  },
  {
   "cell_type": "markdown",
   "id": "df7f5574-9c33-45b4-b47b-a4e92df00d1e",
   "metadata": {},
   "source": [
    "## Import Python tools"
   ]
  },
  {
   "cell_type": "markdown",
   "id": "93f456c3-bd95-4240-8bf4-3de3cb2f963c",
   "metadata": {},
   "source": [
    "A few basic bits from the standard library"
   ]
  },
  {
   "cell_type": "code",
   "execution_count": 1,
   "id": "c55ee101-6164-4f95-9f44-9c7814724a81",
   "metadata": {},
   "outputs": [],
   "source": [
    "import os\n",
    "from pathlib import Path\n",
    "from urllib.request import urlopen"
   ]
  },
  {
   "cell_type": "markdown",
   "id": "82d53d9d-bf7f-49a2-80c5-914dee1e7a31",
   "metadata": {},
   "source": [
    "The ECMWF's API for its [Climate Data Store](https://cds.climate.copernicus.eu/)"
   ]
  },
  {
   "cell_type": "code",
   "execution_count": 2,
   "id": "79da850e-0288-4742-b599-84716c70b105",
   "metadata": {},
   "outputs": [],
   "source": [
    "import cdsapi"
   ]
  },
  {
   "cell_type": "markdown",
   "id": "adaf23ff-4c21-4479-bead-156ce71f6dc3",
   "metadata": {},
   "source": [
    "The [xarray](https://docs.xarray.dev/en/stable/index.html) tool for working with gridded data"
   ]
  },
  {
   "cell_type": "code",
   "execution_count": 3,
   "id": "3083a549-0fe8-4f75-9066-57bbf98b756b",
   "metadata": {},
   "outputs": [],
   "source": [
    "import xarray as xr"
   ]
  },
  {
   "cell_type": "markdown",
   "id": "586486df-35ad-44cf-b571-46a74ac811c7",
   "metadata": {},
   "source": [
    "[The National Science Foundation's special package](https://unidata.github.io/MetPy/latest/index.html) for fancy weather math"
   ]
  },
  {
   "cell_type": "code",
   "execution_count": 4,
   "id": "f3aa1da3-6395-4d99-98e1-6b2358e4b343",
   "metadata": {},
   "outputs": [],
   "source": [
    "import metpy.calc as mpcalc"
   ]
  },
  {
   "cell_type": "markdown",
   "id": "4202368e-2df0-449d-93c8-f11ef3278cce",
   "metadata": {},
   "source": [
    "The typical Python tools for working with tabular data"
   ]
  },
  {
   "cell_type": "code",
   "execution_count": 5,
   "id": "f865d080-64ed-45d7-99ac-fcb244304884",
   "metadata": {},
   "outputs": [],
   "source": [
    "import numpy as np\n",
    "import pandas as pd"
   ]
  },
  {
   "cell_type": "markdown",
   "id": "edfd41fb-815f-4d8c-83c1-6fc9022b734b",
   "metadata": {},
   "source": [
    "Geospatial tools for working with maps and GIS data"
   ]
  },
  {
   "cell_type": "code",
   "execution_count": 6,
   "id": "43c416c2-c6dd-40d3-92e0-6d6be260abc2",
   "metadata": {},
   "outputs": [],
   "source": [
    "from shapely import Polygon\n",
    "import geopandas as gpd"
   ]
  },
  {
   "cell_type": "markdown",
   "id": "34df2d4c-f7ec-4973-9228-721c5868c431",
   "metadata": {},
   "source": [
    "A minor formatting make our numbers easier to read"
   ]
  },
  {
   "cell_type": "code",
   "execution_count": 7,
   "id": "6728968a-1a1a-45ef-8214-5d99e17b17e5",
   "metadata": {},
   "outputs": [],
   "source": [
    "pd.options.display.float_format = \"{:20,.2f}\".format"
   ]
  },
  {
   "cell_type": "markdown",
   "id": "04f1f894-1c04-4bbc-881d-976b07ee7687",
   "metadata": {},
   "source": [
    "## Download hourly climate data\n",
    "\n",
    "Connect to the Climate Data Store API using our private key"
   ]
  },
  {
   "cell_type": "code",
   "execution_count": 10,
   "id": "6c580378-a40a-4553-83cc-40eb1a4b6511",
   "metadata": {},
   "outputs": [
    {
     "name": "stderr",
     "output_type": "stream",
     "text": [
      "2025-02-03 15:32:00,326 INFO [2024-09-26T00:00:00] Watch our [Forum](https://forum.ecmwf.int/) for Announcements, news and other discussed topics.\n",
      "2025-02-03 15:32:00,327 WARNING [2024-06-16T00:00:00] CDS API syntax is changed and some keys or parameter names may have also changed. To avoid requests failing, please use the \"Show API request code\" tool on the dataset Download Form to check you are using the correct syntax for your API request.\n"
     ]
    }
   ],
   "source": [
    "c = cdsapi.Client(\n",
    "    key=os.getenv(\"CDS_API_KEY\"),\n",
    "    url=\"https://cds.climate.copernicus.eu/api\",\n",
    ")"
   ]
  },
  {
   "cell_type": "markdown",
   "id": "702f4730-e3a5-4902-bbf2-29cdf95f83d5",
   "metadata": {},
   "source": [
    "Download the hourly temperature data (known as 2t or t2m) for the provided date"
   ]
  },
  {
   "cell_type": "code",
   "execution_count": 11,
   "id": "ccae2063-0314-47dd-85e7-d30d252c53e4",
   "metadata": {},
   "outputs": [],
   "source": [
    "def download_hourly_data(date: str, variable: str) -> Path:\n",
    "    \"\"\"Download the hourly ERA5 data for the provided date and variable.\n",
    "\n",
    "    Args:\n",
    "        date (str): The date to download for in YYYY-MM-DD format\n",
    "        variable (str): The ERA5 variable to download\n",
    "\n",
    "    Returns:\n",
    "        The file Path to the downloaded file\n",
    "    \"\"\"\n",
    "    r = c.retrieve(\n",
    "        # The standard hourly data service\n",
    "        # https://cds.climate.copernicus.eu/datasets/reanalysis-era5-single-levels?tab=overview\n",
    "        \"reanalysis-era5-single-levels\",\n",
    "        {\n",
    "            \"variable\": variable,\n",
    "            \"product_type\": \"reanalysis\",  # The sturdy dataset that takes five days to calculate\n",
    "            \"date\": date,\n",
    "            \"time\": [f\"{str(i).zfill(2)}:00\" for i in range(0, 24)],  # Get all 24 hours\n",
    "            \"format\": \"netcdf\",  # The file format we prefer\n",
    "        },\n",
    "    )\n",
    "    file_path = Path(f\"./data/era5-{date}-{variable}.netcdf\")\n",
    "    with urlopen(r.location) as f, open(file_path, \"wb\") as b:\n",
    "        b.write(f.read())\n",
    "    return file_path"
   ]
  },
  {
   "cell_type": "code",
   "execution_count": 12,
   "id": "54a67a57-fe31-4400-92f7-3035796d1f72",
   "metadata": {},
   "outputs": [
    {
     "name": "stderr",
     "output_type": "stream",
     "text": [
      "2025-02-03 15:32:01,047 INFO Request ID is 95d9bbe2-fd0c-4ca7-8984-d36f08b0a88a\n",
      "2025-02-03 15:32:01,288 INFO status has been updated to accepted\n",
      "2025-02-03 15:32:10,599 INFO status has been updated to running\n",
      "2025-02-03 15:32:15,783 INFO status has been updated to successful\n"
     ]
    }
   ],
   "source": [
    "hourly_path = download_hourly_data(\"1982-07-22\", \"2t\")"
   ]
  },
  {
   "cell_type": "markdown",
   "id": "e3d11f49-d341-42ed-a4eb-fb8cef089659",
   "metadata": {},
   "source": [
    "## Access and explore\n",
    "Read in the [NetCDF](https://en.wikipedia.org/wiki/NetCDF) file, which is an special data format that science people use for gridded data. The typical tool for working with it is xarray."
   ]
  },
  {
   "cell_type": "code",
   "execution_count": 13,
   "id": "b49eb3d5-1fe4-4ef8-92e7-b6c08cfc5fe7",
   "metadata": {},
   "outputs": [],
   "source": [
    "ds = xr.open_dataset(hourly_path)"
   ]
  },
  {
   "cell_type": "markdown",
   "id": "e2a82b84-bd8f-44f8-b410-118a7213291b",
   "metadata": {},
   "source": [
    "Take a peek at what's in there."
   ]
  },
  {
   "cell_type": "code",
   "execution_count": 14,
   "id": "c3c99737-1f58-41b9-98f7-7d55ec5a201e",
   "metadata": {},
   "outputs": [
    {
     "data": {
      "text/html": [
       "<div><svg style=\"position: absolute; width: 0; height: 0; overflow: hidden\">\n",
       "<defs>\n",
       "<symbol id=\"icon-database\" viewBox=\"0 0 32 32\">\n",
       "<path d=\"M16 0c-8.837 0-16 2.239-16 5v4c0 2.761 7.163 5 16 5s16-2.239 16-5v-4c0-2.761-7.163-5-16-5z\"></path>\n",
       "<path d=\"M16 17c-8.837 0-16-2.239-16-5v6c0 2.761 7.163 5 16 5s16-2.239 16-5v-6c0 2.761-7.163 5-16 5z\"></path>\n",
       "<path d=\"M16 26c-8.837 0-16-2.239-16-5v6c0 2.761 7.163 5 16 5s16-2.239 16-5v-6c0 2.761-7.163 5-16 5z\"></path>\n",
       "</symbol>\n",
       "<symbol id=\"icon-file-text2\" viewBox=\"0 0 32 32\">\n",
       "<path d=\"M28.681 7.159c-0.694-0.947-1.662-2.053-2.724-3.116s-2.169-2.030-3.116-2.724c-1.612-1.182-2.393-1.319-2.841-1.319h-15.5c-1.378 0-2.5 1.121-2.5 2.5v27c0 1.378 1.122 2.5 2.5 2.5h23c1.378 0 2.5-1.122 2.5-2.5v-19.5c0-0.448-0.137-1.23-1.319-2.841zM24.543 5.457c0.959 0.959 1.712 1.825 2.268 2.543h-4.811v-4.811c0.718 0.556 1.584 1.309 2.543 2.268zM28 29.5c0 0.271-0.229 0.5-0.5 0.5h-23c-0.271 0-0.5-0.229-0.5-0.5v-27c0-0.271 0.229-0.5 0.5-0.5 0 0 15.499-0 15.5 0v7c0 0.552 0.448 1 1 1h7v19.5z\"></path>\n",
       "<path d=\"M23 26h-14c-0.552 0-1-0.448-1-1s0.448-1 1-1h14c0.552 0 1 0.448 1 1s-0.448 1-1 1z\"></path>\n",
       "<path d=\"M23 22h-14c-0.552 0-1-0.448-1-1s0.448-1 1-1h14c0.552 0 1 0.448 1 1s-0.448 1-1 1z\"></path>\n",
       "<path d=\"M23 18h-14c-0.552 0-1-0.448-1-1s0.448-1 1-1h14c0.552 0 1 0.448 1 1s-0.448 1-1 1z\"></path>\n",
       "</symbol>\n",
       "</defs>\n",
       "</svg>\n",
       "<style>/* CSS stylesheet for displaying xarray objects in jupyterlab.\n",
       " *\n",
       " */\n",
       "\n",
       ":root {\n",
       "  --xr-font-color0: var(--jp-content-font-color0, rgba(0, 0, 0, 1));\n",
       "  --xr-font-color2: var(--jp-content-font-color2, rgba(0, 0, 0, 0.54));\n",
       "  --xr-font-color3: var(--jp-content-font-color3, rgba(0, 0, 0, 0.38));\n",
       "  --xr-border-color: var(--jp-border-color2, #e0e0e0);\n",
       "  --xr-disabled-color: var(--jp-layout-color3, #bdbdbd);\n",
       "  --xr-background-color: var(--jp-layout-color0, white);\n",
       "  --xr-background-color-row-even: var(--jp-layout-color1, white);\n",
       "  --xr-background-color-row-odd: var(--jp-layout-color2, #eeeeee);\n",
       "}\n",
       "\n",
       "html[theme=\"dark\"],\n",
       "html[data-theme=\"dark\"],\n",
       "body[data-theme=\"dark\"],\n",
       "body.vscode-dark {\n",
       "  --xr-font-color0: rgba(255, 255, 255, 1);\n",
       "  --xr-font-color2: rgba(255, 255, 255, 0.54);\n",
       "  --xr-font-color3: rgba(255, 255, 255, 0.38);\n",
       "  --xr-border-color: #1f1f1f;\n",
       "  --xr-disabled-color: #515151;\n",
       "  --xr-background-color: #111111;\n",
       "  --xr-background-color-row-even: #111111;\n",
       "  --xr-background-color-row-odd: #313131;\n",
       "}\n",
       "\n",
       ".xr-wrap {\n",
       "  display: block !important;\n",
       "  min-width: 300px;\n",
       "  max-width: 700px;\n",
       "}\n",
       "\n",
       ".xr-text-repr-fallback {\n",
       "  /* fallback to plain text repr when CSS is not injected (untrusted notebook) */\n",
       "  display: none;\n",
       "}\n",
       "\n",
       ".xr-header {\n",
       "  padding-top: 6px;\n",
       "  padding-bottom: 6px;\n",
       "  margin-bottom: 4px;\n",
       "  border-bottom: solid 1px var(--xr-border-color);\n",
       "}\n",
       "\n",
       ".xr-header > div,\n",
       ".xr-header > ul {\n",
       "  display: inline;\n",
       "  margin-top: 0;\n",
       "  margin-bottom: 0;\n",
       "}\n",
       "\n",
       ".xr-obj-type,\n",
       ".xr-array-name {\n",
       "  margin-left: 2px;\n",
       "  margin-right: 10px;\n",
       "}\n",
       "\n",
       ".xr-obj-type {\n",
       "  color: var(--xr-font-color2);\n",
       "}\n",
       "\n",
       ".xr-sections {\n",
       "  padding-left: 0 !important;\n",
       "  display: grid;\n",
       "  grid-template-columns: 150px auto auto 1fr 0 20px 0 20px;\n",
       "}\n",
       "\n",
       ".xr-section-item {\n",
       "  display: contents;\n",
       "}\n",
       "\n",
       ".xr-section-item input {\n",
       "  display: inline-block;\n",
       "  opacity: 0;\n",
       "  height: 0;\n",
       "}\n",
       "\n",
       ".xr-section-item input + label {\n",
       "  color: var(--xr-disabled-color);\n",
       "}\n",
       "\n",
       ".xr-section-item input:enabled + label {\n",
       "  cursor: pointer;\n",
       "  color: var(--xr-font-color2);\n",
       "}\n",
       "\n",
       ".xr-section-item input:focus + label {\n",
       "  border: 2px solid var(--xr-font-color0);\n",
       "}\n",
       "\n",
       ".xr-section-item input:enabled + label:hover {\n",
       "  color: var(--xr-font-color0);\n",
       "}\n",
       "\n",
       ".xr-section-summary {\n",
       "  grid-column: 1;\n",
       "  color: var(--xr-font-color2);\n",
       "  font-weight: 500;\n",
       "}\n",
       "\n",
       ".xr-section-summary > span {\n",
       "  display: inline-block;\n",
       "  padding-left: 0.5em;\n",
       "}\n",
       "\n",
       ".xr-section-summary-in:disabled + label {\n",
       "  color: var(--xr-font-color2);\n",
       "}\n",
       "\n",
       ".xr-section-summary-in + label:before {\n",
       "  display: inline-block;\n",
       "  content: \"►\";\n",
       "  font-size: 11px;\n",
       "  width: 15px;\n",
       "  text-align: center;\n",
       "}\n",
       "\n",
       ".xr-section-summary-in:disabled + label:before {\n",
       "  color: var(--xr-disabled-color);\n",
       "}\n",
       "\n",
       ".xr-section-summary-in:checked + label:before {\n",
       "  content: \"▼\";\n",
       "}\n",
       "\n",
       ".xr-section-summary-in:checked + label > span {\n",
       "  display: none;\n",
       "}\n",
       "\n",
       ".xr-section-summary,\n",
       ".xr-section-inline-details {\n",
       "  padding-top: 4px;\n",
       "  padding-bottom: 4px;\n",
       "}\n",
       "\n",
       ".xr-section-inline-details {\n",
       "  grid-column: 2 / -1;\n",
       "}\n",
       "\n",
       ".xr-section-details {\n",
       "  display: none;\n",
       "  grid-column: 1 / -1;\n",
       "  margin-bottom: 5px;\n",
       "}\n",
       "\n",
       ".xr-section-summary-in:checked ~ .xr-section-details {\n",
       "  display: contents;\n",
       "}\n",
       "\n",
       ".xr-array-wrap {\n",
       "  grid-column: 1 / -1;\n",
       "  display: grid;\n",
       "  grid-template-columns: 20px auto;\n",
       "}\n",
       "\n",
       ".xr-array-wrap > label {\n",
       "  grid-column: 1;\n",
       "  vertical-align: top;\n",
       "}\n",
       "\n",
       ".xr-preview {\n",
       "  color: var(--xr-font-color3);\n",
       "}\n",
       "\n",
       ".xr-array-preview,\n",
       ".xr-array-data {\n",
       "  padding: 0 5px !important;\n",
       "  grid-column: 2;\n",
       "}\n",
       "\n",
       ".xr-array-data,\n",
       ".xr-array-in:checked ~ .xr-array-preview {\n",
       "  display: none;\n",
       "}\n",
       "\n",
       ".xr-array-in:checked ~ .xr-array-data,\n",
       ".xr-array-preview {\n",
       "  display: inline-block;\n",
       "}\n",
       "\n",
       ".xr-dim-list {\n",
       "  display: inline-block !important;\n",
       "  list-style: none;\n",
       "  padding: 0 !important;\n",
       "  margin: 0;\n",
       "}\n",
       "\n",
       ".xr-dim-list li {\n",
       "  display: inline-block;\n",
       "  padding: 0;\n",
       "  margin: 0;\n",
       "}\n",
       "\n",
       ".xr-dim-list:before {\n",
       "  content: \"(\";\n",
       "}\n",
       "\n",
       ".xr-dim-list:after {\n",
       "  content: \")\";\n",
       "}\n",
       "\n",
       ".xr-dim-list li:not(:last-child):after {\n",
       "  content: \",\";\n",
       "  padding-right: 5px;\n",
       "}\n",
       "\n",
       ".xr-has-index {\n",
       "  font-weight: bold;\n",
       "}\n",
       "\n",
       ".xr-var-list,\n",
       ".xr-var-item {\n",
       "  display: contents;\n",
       "}\n",
       "\n",
       ".xr-var-item > div,\n",
       ".xr-var-item label,\n",
       ".xr-var-item > .xr-var-name span {\n",
       "  background-color: var(--xr-background-color-row-even);\n",
       "  margin-bottom: 0;\n",
       "}\n",
       "\n",
       ".xr-var-item > .xr-var-name:hover span {\n",
       "  padding-right: 5px;\n",
       "}\n",
       "\n",
       ".xr-var-list > li:nth-child(odd) > div,\n",
       ".xr-var-list > li:nth-child(odd) > label,\n",
       ".xr-var-list > li:nth-child(odd) > .xr-var-name span {\n",
       "  background-color: var(--xr-background-color-row-odd);\n",
       "}\n",
       "\n",
       ".xr-var-name {\n",
       "  grid-column: 1;\n",
       "}\n",
       "\n",
       ".xr-var-dims {\n",
       "  grid-column: 2;\n",
       "}\n",
       "\n",
       ".xr-var-dtype {\n",
       "  grid-column: 3;\n",
       "  text-align: right;\n",
       "  color: var(--xr-font-color2);\n",
       "}\n",
       "\n",
       ".xr-var-preview {\n",
       "  grid-column: 4;\n",
       "}\n",
       "\n",
       ".xr-index-preview {\n",
       "  grid-column: 2 / 5;\n",
       "  color: var(--xr-font-color2);\n",
       "}\n",
       "\n",
       ".xr-var-name,\n",
       ".xr-var-dims,\n",
       ".xr-var-dtype,\n",
       ".xr-preview,\n",
       ".xr-attrs dt {\n",
       "  white-space: nowrap;\n",
       "  overflow: hidden;\n",
       "  text-overflow: ellipsis;\n",
       "  padding-right: 10px;\n",
       "}\n",
       "\n",
       ".xr-var-name:hover,\n",
       ".xr-var-dims:hover,\n",
       ".xr-var-dtype:hover,\n",
       ".xr-attrs dt:hover {\n",
       "  overflow: visible;\n",
       "  width: auto;\n",
       "  z-index: 1;\n",
       "}\n",
       "\n",
       ".xr-var-attrs,\n",
       ".xr-var-data,\n",
       ".xr-index-data {\n",
       "  display: none;\n",
       "  background-color: var(--xr-background-color) !important;\n",
       "  padding-bottom: 5px !important;\n",
       "}\n",
       "\n",
       ".xr-var-attrs-in:checked ~ .xr-var-attrs,\n",
       ".xr-var-data-in:checked ~ .xr-var-data,\n",
       ".xr-index-data-in:checked ~ .xr-index-data {\n",
       "  display: block;\n",
       "}\n",
       "\n",
       ".xr-var-data > table {\n",
       "  float: right;\n",
       "}\n",
       "\n",
       ".xr-var-name span,\n",
       ".xr-var-data,\n",
       ".xr-index-name div,\n",
       ".xr-index-data,\n",
       ".xr-attrs {\n",
       "  padding-left: 25px !important;\n",
       "}\n",
       "\n",
       ".xr-attrs,\n",
       ".xr-var-attrs,\n",
       ".xr-var-data,\n",
       ".xr-index-data {\n",
       "  grid-column: 1 / -1;\n",
       "}\n",
       "\n",
       "dl.xr-attrs {\n",
       "  padding: 0;\n",
       "  margin: 0;\n",
       "  display: grid;\n",
       "  grid-template-columns: 125px auto;\n",
       "}\n",
       "\n",
       ".xr-attrs dt,\n",
       ".xr-attrs dd {\n",
       "  padding: 0;\n",
       "  margin: 0;\n",
       "  float: left;\n",
       "  padding-right: 10px;\n",
       "  width: auto;\n",
       "}\n",
       "\n",
       ".xr-attrs dt {\n",
       "  font-weight: normal;\n",
       "  grid-column: 1;\n",
       "}\n",
       "\n",
       ".xr-attrs dt:hover span {\n",
       "  display: inline-block;\n",
       "  background: var(--xr-background-color);\n",
       "  padding-right: 10px;\n",
       "}\n",
       "\n",
       ".xr-attrs dd {\n",
       "  grid-column: 2;\n",
       "  white-space: pre-wrap;\n",
       "  word-break: break-all;\n",
       "}\n",
       "\n",
       ".xr-icon-database,\n",
       ".xr-icon-file-text2,\n",
       ".xr-no-icon {\n",
       "  display: inline-block;\n",
       "  vertical-align: middle;\n",
       "  width: 1em;\n",
       "  height: 1.5em !important;\n",
       "  stroke-width: 0;\n",
       "  stroke: currentColor;\n",
       "  fill: currentColor;\n",
       "}\n",
       "</style><pre class='xr-text-repr-fallback'>&lt;xarray.Dataset&gt; Size: 100MB\n",
       "Dimensions:     (valid_time: 24, latitude: 721, longitude: 1440)\n",
       "Coordinates:\n",
       "    number      int64 8B ...\n",
       "  * valid_time  (valid_time) datetime64[ns] 192B 1982-07-22 ... 1982-07-22T23...\n",
       "  * latitude    (latitude) float64 6kB 90.0 89.75 89.5 ... -89.5 -89.75 -90.0\n",
       "  * longitude   (longitude) float64 12kB 0.0 0.25 0.5 0.75 ... 359.2 359.5 359.8\n",
       "    expver      (valid_time) &lt;U4 384B ...\n",
       "Data variables:\n",
       "    t2m         (valid_time, latitude, longitude) float32 100MB ...\n",
       "Attributes:\n",
       "    GRIB_centre:             ecmf\n",
       "    GRIB_centreDescription:  European Centre for Medium-Range Weather Forecasts\n",
       "    GRIB_subCentre:          0\n",
       "    Conventions:             CF-1.7\n",
       "    institution:             European Centre for Medium-Range Weather Forecasts\n",
       "    history:                 2025-02-03T16:35 GRIB to CDM+CF via cfgrib-0.9.1...</pre><div class='xr-wrap' style='display:none'><div class='xr-header'><div class='xr-obj-type'>xarray.Dataset</div></div><ul class='xr-sections'><li class='xr-section-item'><input id='section-44848f2f-539d-4fa9-a697-ba86d659f159' class='xr-section-summary-in' type='checkbox' disabled ><label for='section-44848f2f-539d-4fa9-a697-ba86d659f159' class='xr-section-summary'  title='Expand/collapse section'>Dimensions:</label><div class='xr-section-inline-details'><ul class='xr-dim-list'><li><span class='xr-has-index'>valid_time</span>: 24</li><li><span class='xr-has-index'>latitude</span>: 721</li><li><span class='xr-has-index'>longitude</span>: 1440</li></ul></div><div class='xr-section-details'></div></li><li class='xr-section-item'><input id='section-cadd4ad8-aab2-4b4f-bea3-487e127d870e' class='xr-section-summary-in' type='checkbox'  checked><label for='section-cadd4ad8-aab2-4b4f-bea3-487e127d870e' class='xr-section-summary' >Coordinates: <span>(5)</span></label><div class='xr-section-inline-details'></div><div class='xr-section-details'><ul class='xr-var-list'><li class='xr-var-item'><div class='xr-var-name'><span>number</span></div><div class='xr-var-dims'>()</div><div class='xr-var-dtype'>int64</div><div class='xr-var-preview xr-preview'>...</div><input id='attrs-6f1bb95d-7fc6-469d-9eb6-ef51bebe54d7' class='xr-var-attrs-in' type='checkbox' ><label for='attrs-6f1bb95d-7fc6-469d-9eb6-ef51bebe54d7' title='Show/Hide attributes'><svg class='icon xr-icon-file-text2'><use xlink:href='#icon-file-text2'></use></svg></label><input id='data-d72312b0-914d-489d-bd45-be967215954d' class='xr-var-data-in' type='checkbox'><label for='data-d72312b0-914d-489d-bd45-be967215954d' title='Show/Hide data repr'><svg class='icon xr-icon-database'><use xlink:href='#icon-database'></use></svg></label><div class='xr-var-attrs'><dl class='xr-attrs'><dt><span>long_name :</span></dt><dd>ensemble member numerical id</dd><dt><span>units :</span></dt><dd>1</dd><dt><span>standard_name :</span></dt><dd>realization</dd></dl></div><div class='xr-var-data'><pre>[1 values with dtype=int64]</pre></div></li><li class='xr-var-item'><div class='xr-var-name'><span class='xr-has-index'>valid_time</span></div><div class='xr-var-dims'>(valid_time)</div><div class='xr-var-dtype'>datetime64[ns]</div><div class='xr-var-preview xr-preview'>1982-07-22 ... 1982-07-22T23:00:00</div><input id='attrs-9bef98a2-4705-4955-ae18-be4119301c9e' class='xr-var-attrs-in' type='checkbox' ><label for='attrs-9bef98a2-4705-4955-ae18-be4119301c9e' title='Show/Hide attributes'><svg class='icon xr-icon-file-text2'><use xlink:href='#icon-file-text2'></use></svg></label><input id='data-b29f5517-1cfa-4e02-8a62-cdadfd706b8a' class='xr-var-data-in' type='checkbox'><label for='data-b29f5517-1cfa-4e02-8a62-cdadfd706b8a' title='Show/Hide data repr'><svg class='icon xr-icon-database'><use xlink:href='#icon-database'></use></svg></label><div class='xr-var-attrs'><dl class='xr-attrs'><dt><span>long_name :</span></dt><dd>time</dd><dt><span>standard_name :</span></dt><dd>time</dd></dl></div><div class='xr-var-data'><pre>array([&#x27;1982-07-22T00:00:00.000000000&#x27;, &#x27;1982-07-22T01:00:00.000000000&#x27;,\n",
       "       &#x27;1982-07-22T02:00:00.000000000&#x27;, &#x27;1982-07-22T03:00:00.000000000&#x27;,\n",
       "       &#x27;1982-07-22T04:00:00.000000000&#x27;, &#x27;1982-07-22T05:00:00.000000000&#x27;,\n",
       "       &#x27;1982-07-22T06:00:00.000000000&#x27;, &#x27;1982-07-22T07:00:00.000000000&#x27;,\n",
       "       &#x27;1982-07-22T08:00:00.000000000&#x27;, &#x27;1982-07-22T09:00:00.000000000&#x27;,\n",
       "       &#x27;1982-07-22T10:00:00.000000000&#x27;, &#x27;1982-07-22T11:00:00.000000000&#x27;,\n",
       "       &#x27;1982-07-22T12:00:00.000000000&#x27;, &#x27;1982-07-22T13:00:00.000000000&#x27;,\n",
       "       &#x27;1982-07-22T14:00:00.000000000&#x27;, &#x27;1982-07-22T15:00:00.000000000&#x27;,\n",
       "       &#x27;1982-07-22T16:00:00.000000000&#x27;, &#x27;1982-07-22T17:00:00.000000000&#x27;,\n",
       "       &#x27;1982-07-22T18:00:00.000000000&#x27;, &#x27;1982-07-22T19:00:00.000000000&#x27;,\n",
       "       &#x27;1982-07-22T20:00:00.000000000&#x27;, &#x27;1982-07-22T21:00:00.000000000&#x27;,\n",
       "       &#x27;1982-07-22T22:00:00.000000000&#x27;, &#x27;1982-07-22T23:00:00.000000000&#x27;],\n",
       "      dtype=&#x27;datetime64[ns]&#x27;)</pre></div></li><li class='xr-var-item'><div class='xr-var-name'><span class='xr-has-index'>latitude</span></div><div class='xr-var-dims'>(latitude)</div><div class='xr-var-dtype'>float64</div><div class='xr-var-preview xr-preview'>90.0 89.75 89.5 ... -89.75 -90.0</div><input id='attrs-e0789b98-8e86-4386-9afb-83fb0ba3a6b1' class='xr-var-attrs-in' type='checkbox' ><label for='attrs-e0789b98-8e86-4386-9afb-83fb0ba3a6b1' title='Show/Hide attributes'><svg class='icon xr-icon-file-text2'><use xlink:href='#icon-file-text2'></use></svg></label><input id='data-d6deb5bd-ea4f-48bf-9ed0-62eed22438e8' class='xr-var-data-in' type='checkbox'><label for='data-d6deb5bd-ea4f-48bf-9ed0-62eed22438e8' title='Show/Hide data repr'><svg class='icon xr-icon-database'><use xlink:href='#icon-database'></use></svg></label><div class='xr-var-attrs'><dl class='xr-attrs'><dt><span>units :</span></dt><dd>degrees_north</dd><dt><span>standard_name :</span></dt><dd>latitude</dd><dt><span>long_name :</span></dt><dd>latitude</dd><dt><span>stored_direction :</span></dt><dd>decreasing</dd></dl></div><div class='xr-var-data'><pre>array([ 90.  ,  89.75,  89.5 , ..., -89.5 , -89.75, -90.  ], shape=(721,))</pre></div></li><li class='xr-var-item'><div class='xr-var-name'><span class='xr-has-index'>longitude</span></div><div class='xr-var-dims'>(longitude)</div><div class='xr-var-dtype'>float64</div><div class='xr-var-preview xr-preview'>0.0 0.25 0.5 ... 359.2 359.5 359.8</div><input id='attrs-fbd73070-ef27-4f23-8fa7-094769a68628' class='xr-var-attrs-in' type='checkbox' ><label for='attrs-fbd73070-ef27-4f23-8fa7-094769a68628' title='Show/Hide attributes'><svg class='icon xr-icon-file-text2'><use xlink:href='#icon-file-text2'></use></svg></label><input id='data-7858b85b-f8e9-4291-b783-91b07eca3b5e' class='xr-var-data-in' type='checkbox'><label for='data-7858b85b-f8e9-4291-b783-91b07eca3b5e' title='Show/Hide data repr'><svg class='icon xr-icon-database'><use xlink:href='#icon-database'></use></svg></label><div class='xr-var-attrs'><dl class='xr-attrs'><dt><span>units :</span></dt><dd>degrees_east</dd><dt><span>standard_name :</span></dt><dd>longitude</dd><dt><span>long_name :</span></dt><dd>longitude</dd></dl></div><div class='xr-var-data'><pre>array([0.0000e+00, 2.5000e-01, 5.0000e-01, ..., 3.5925e+02, 3.5950e+02,\n",
       "       3.5975e+02], shape=(1440,))</pre></div></li><li class='xr-var-item'><div class='xr-var-name'><span>expver</span></div><div class='xr-var-dims'>(valid_time)</div><div class='xr-var-dtype'>&lt;U4</div><div class='xr-var-preview xr-preview'>...</div><input id='attrs-601fb0f0-7b8c-442f-a64b-59f6dabd7476' class='xr-var-attrs-in' type='checkbox' disabled><label for='attrs-601fb0f0-7b8c-442f-a64b-59f6dabd7476' title='Show/Hide attributes'><svg class='icon xr-icon-file-text2'><use xlink:href='#icon-file-text2'></use></svg></label><input id='data-ed8ecc7a-c1dc-4901-a1af-738f93a607af' class='xr-var-data-in' type='checkbox'><label for='data-ed8ecc7a-c1dc-4901-a1af-738f93a607af' title='Show/Hide data repr'><svg class='icon xr-icon-database'><use xlink:href='#icon-database'></use></svg></label><div class='xr-var-attrs'><dl class='xr-attrs'></dl></div><div class='xr-var-data'><pre>[24 values with dtype=&lt;U4]</pre></div></li></ul></div></li><li class='xr-section-item'><input id='section-d8073957-60cb-4e83-9db6-d67b9c90a66b' class='xr-section-summary-in' type='checkbox'  checked><label for='section-d8073957-60cb-4e83-9db6-d67b9c90a66b' class='xr-section-summary' >Data variables: <span>(1)</span></label><div class='xr-section-inline-details'></div><div class='xr-section-details'><ul class='xr-var-list'><li class='xr-var-item'><div class='xr-var-name'><span>t2m</span></div><div class='xr-var-dims'>(valid_time, latitude, longitude)</div><div class='xr-var-dtype'>float32</div><div class='xr-var-preview xr-preview'>...</div><input id='attrs-2659e247-f625-4a48-b390-bc8e485b04f4' class='xr-var-attrs-in' type='checkbox' ><label for='attrs-2659e247-f625-4a48-b390-bc8e485b04f4' title='Show/Hide attributes'><svg class='icon xr-icon-file-text2'><use xlink:href='#icon-file-text2'></use></svg></label><input id='data-c3b72fe3-afe6-4577-8069-bfacde95ef4f' class='xr-var-data-in' type='checkbox'><label for='data-c3b72fe3-afe6-4577-8069-bfacde95ef4f' title='Show/Hide data repr'><svg class='icon xr-icon-database'><use xlink:href='#icon-database'></use></svg></label><div class='xr-var-attrs'><dl class='xr-attrs'><dt><span>GRIB_paramId :</span></dt><dd>167</dd><dt><span>GRIB_dataType :</span></dt><dd>an</dd><dt><span>GRIB_numberOfPoints :</span></dt><dd>1038240</dd><dt><span>GRIB_typeOfLevel :</span></dt><dd>surface</dd><dt><span>GRIB_stepUnits :</span></dt><dd>1</dd><dt><span>GRIB_stepType :</span></dt><dd>instant</dd><dt><span>GRIB_gridType :</span></dt><dd>regular_ll</dd><dt><span>GRIB_uvRelativeToGrid :</span></dt><dd>0</dd><dt><span>GRIB_NV :</span></dt><dd>0</dd><dt><span>GRIB_Nx :</span></dt><dd>1440</dd><dt><span>GRIB_Ny :</span></dt><dd>721</dd><dt><span>GRIB_cfName :</span></dt><dd>unknown</dd><dt><span>GRIB_cfVarName :</span></dt><dd>t2m</dd><dt><span>GRIB_gridDefinitionDescription :</span></dt><dd>Latitude/Longitude Grid</dd><dt><span>GRIB_iDirectionIncrementInDegrees :</span></dt><dd>0.25</dd><dt><span>GRIB_iScansNegatively :</span></dt><dd>0</dd><dt><span>GRIB_jDirectionIncrementInDegrees :</span></dt><dd>0.25</dd><dt><span>GRIB_jPointsAreConsecutive :</span></dt><dd>0</dd><dt><span>GRIB_jScansPositively :</span></dt><dd>0</dd><dt><span>GRIB_latitudeOfFirstGridPointInDegrees :</span></dt><dd>90.0</dd><dt><span>GRIB_latitudeOfLastGridPointInDegrees :</span></dt><dd>-90.0</dd><dt><span>GRIB_longitudeOfFirstGridPointInDegrees :</span></dt><dd>0.0</dd><dt><span>GRIB_longitudeOfLastGridPointInDegrees :</span></dt><dd>359.75</dd><dt><span>GRIB_missingValue :</span></dt><dd>3.4028234663852886e+38</dd><dt><span>GRIB_name :</span></dt><dd>2 metre temperature</dd><dt><span>GRIB_shortName :</span></dt><dd>2t</dd><dt><span>GRIB_totalNumber :</span></dt><dd>0</dd><dt><span>GRIB_units :</span></dt><dd>K</dd><dt><span>long_name :</span></dt><dd>2 metre temperature</dd><dt><span>units :</span></dt><dd>K</dd><dt><span>standard_name :</span></dt><dd>unknown</dd><dt><span>GRIB_surface :</span></dt><dd>0.0</dd></dl></div><div class='xr-var-data'><pre>[24917760 values with dtype=float32]</pre></div></li></ul></div></li><li class='xr-section-item'><input id='section-50cd907a-1e1d-45fe-8a75-b479e55408a7' class='xr-section-summary-in' type='checkbox'  ><label for='section-50cd907a-1e1d-45fe-8a75-b479e55408a7' class='xr-section-summary' >Indexes: <span>(3)</span></label><div class='xr-section-inline-details'></div><div class='xr-section-details'><ul class='xr-var-list'><li class='xr-var-item'><div class='xr-index-name'><div>valid_time</div></div><div class='xr-index-preview'>PandasIndex</div><input type='checkbox' disabled/><label></label><input id='index-f3fcd5a9-3fb4-4e81-8870-1cd29b8d7d3a' class='xr-index-data-in' type='checkbox'/><label for='index-f3fcd5a9-3fb4-4e81-8870-1cd29b8d7d3a' title='Show/Hide index repr'><svg class='icon xr-icon-database'><use xlink:href='#icon-database'></use></svg></label><div class='xr-index-data'><pre>PandasIndex(DatetimeIndex([&#x27;1982-07-22 00:00:00&#x27;, &#x27;1982-07-22 01:00:00&#x27;,\n",
       "               &#x27;1982-07-22 02:00:00&#x27;, &#x27;1982-07-22 03:00:00&#x27;,\n",
       "               &#x27;1982-07-22 04:00:00&#x27;, &#x27;1982-07-22 05:00:00&#x27;,\n",
       "               &#x27;1982-07-22 06:00:00&#x27;, &#x27;1982-07-22 07:00:00&#x27;,\n",
       "               &#x27;1982-07-22 08:00:00&#x27;, &#x27;1982-07-22 09:00:00&#x27;,\n",
       "               &#x27;1982-07-22 10:00:00&#x27;, &#x27;1982-07-22 11:00:00&#x27;,\n",
       "               &#x27;1982-07-22 12:00:00&#x27;, &#x27;1982-07-22 13:00:00&#x27;,\n",
       "               &#x27;1982-07-22 14:00:00&#x27;, &#x27;1982-07-22 15:00:00&#x27;,\n",
       "               &#x27;1982-07-22 16:00:00&#x27;, &#x27;1982-07-22 17:00:00&#x27;,\n",
       "               &#x27;1982-07-22 18:00:00&#x27;, &#x27;1982-07-22 19:00:00&#x27;,\n",
       "               &#x27;1982-07-22 20:00:00&#x27;, &#x27;1982-07-22 21:00:00&#x27;,\n",
       "               &#x27;1982-07-22 22:00:00&#x27;, &#x27;1982-07-22 23:00:00&#x27;],\n",
       "              dtype=&#x27;datetime64[ns]&#x27;, name=&#x27;valid_time&#x27;, freq=None))</pre></div></li><li class='xr-var-item'><div class='xr-index-name'><div>latitude</div></div><div class='xr-index-preview'>PandasIndex</div><input type='checkbox' disabled/><label></label><input id='index-e0573049-3acd-417b-bdf8-f5b0bd8d0e29' class='xr-index-data-in' type='checkbox'/><label for='index-e0573049-3acd-417b-bdf8-f5b0bd8d0e29' title='Show/Hide index repr'><svg class='icon xr-icon-database'><use xlink:href='#icon-database'></use></svg></label><div class='xr-index-data'><pre>PandasIndex(Index([  90.0,  89.75,   89.5,  89.25,   89.0,  88.75,   88.5,  88.25,   88.0,\n",
       "        87.75,\n",
       "       ...\n",
       "       -87.75,  -88.0, -88.25,  -88.5, -88.75,  -89.0, -89.25,  -89.5, -89.75,\n",
       "        -90.0],\n",
       "      dtype=&#x27;float64&#x27;, name=&#x27;latitude&#x27;, length=721))</pre></div></li><li class='xr-var-item'><div class='xr-index-name'><div>longitude</div></div><div class='xr-index-preview'>PandasIndex</div><input type='checkbox' disabled/><label></label><input id='index-b170523c-d5c1-4594-9e06-dfa62dab2828' class='xr-index-data-in' type='checkbox'/><label for='index-b170523c-d5c1-4594-9e06-dfa62dab2828' title='Show/Hide index repr'><svg class='icon xr-icon-database'><use xlink:href='#icon-database'></use></svg></label><div class='xr-index-data'><pre>PandasIndex(Index([   0.0,   0.25,    0.5,   0.75,    1.0,   1.25,    1.5,   1.75,    2.0,\n",
       "         2.25,\n",
       "       ...\n",
       "        357.5, 357.75,  358.0, 358.25,  358.5, 358.75,  359.0, 359.25,  359.5,\n",
       "       359.75],\n",
       "      dtype=&#x27;float64&#x27;, name=&#x27;longitude&#x27;, length=1440))</pre></div></li></ul></div></li><li class='xr-section-item'><input id='section-940878a2-2893-4923-90f4-51f8584fa766' class='xr-section-summary-in' type='checkbox'  checked><label for='section-940878a2-2893-4923-90f4-51f8584fa766' class='xr-section-summary' >Attributes: <span>(6)</span></label><div class='xr-section-inline-details'></div><div class='xr-section-details'><dl class='xr-attrs'><dt><span>GRIB_centre :</span></dt><dd>ecmf</dd><dt><span>GRIB_centreDescription :</span></dt><dd>European Centre for Medium-Range Weather Forecasts</dd><dt><span>GRIB_subCentre :</span></dt><dd>0</dd><dt><span>Conventions :</span></dt><dd>CF-1.7</dd><dt><span>institution :</span></dt><dd>European Centre for Medium-Range Weather Forecasts</dd><dt><span>history :</span></dt><dd>2025-02-03T16:35 GRIB to CDM+CF via cfgrib-0.9.15.0/ecCodes-2.39.0 with {&quot;source&quot;: &quot;tmpxyij0tae/data.grib&quot;, &quot;filter_by_keys&quot;: {&quot;stream&quot;: [&quot;oper&quot;], &quot;stepType&quot;: [&quot;instant&quot;]}, &quot;encode_cf&quot;: [&quot;parameter&quot;, &quot;time&quot;, &quot;geography&quot;, &quot;vertical&quot;]}</dd></dl></div></li></ul></div></div>"
      ],
      "text/plain": [
       "<xarray.Dataset> Size: 100MB\n",
       "Dimensions:     (valid_time: 24, latitude: 721, longitude: 1440)\n",
       "Coordinates:\n",
       "    number      int64 8B ...\n",
       "  * valid_time  (valid_time) datetime64[ns] 192B 1982-07-22 ... 1982-07-22T23...\n",
       "  * latitude    (latitude) float64 6kB 90.0 89.75 89.5 ... -89.5 -89.75 -90.0\n",
       "  * longitude   (longitude) float64 12kB 0.0 0.25 0.5 0.75 ... 359.2 359.5 359.8\n",
       "    expver      (valid_time) <U4 384B ...\n",
       "Data variables:\n",
       "    t2m         (valid_time, latitude, longitude) float32 100MB ...\n",
       "Attributes:\n",
       "    GRIB_centre:             ecmf\n",
       "    GRIB_centreDescription:  European Centre for Medium-Range Weather Forecasts\n",
       "    GRIB_subCentre:          0\n",
       "    Conventions:             CF-1.7\n",
       "    institution:             European Centre for Medium-Range Weather Forecasts\n",
       "    history:                 2025-02-03T16:35 GRIB to CDM+CF via cfgrib-0.9.1..."
      ]
     },
     "execution_count": 14,
     "metadata": {},
     "output_type": "execute_result"
    }
   ],
   "source": [
    "ds"
   ]
  },
  {
   "cell_type": "markdown",
   "id": "dee68bc8-b428-493c-a003-28c19c526b05",
   "metadata": {},
   "source": [
    "Don't worry. You can switch it to a standard DataFrame."
   ]
  },
  {
   "cell_type": "code",
   "execution_count": 15,
   "id": "524a72b1-0e2d-4e03-bffe-90b8d23a6341",
   "metadata": {},
   "outputs": [],
   "source": [
    "df = ds.to_dataframe()"
   ]
  },
  {
   "cell_type": "markdown",
   "id": "46f847f0-b960-441c-9128-1bf0169a5645",
   "metadata": {},
   "source": [
    "And that's what you might expect."
   ]
  },
  {
   "cell_type": "code",
   "execution_count": 16,
   "id": "f144a167-9e60-4ce2-a8c5-4b928db70397",
   "metadata": {},
   "outputs": [
    {
     "data": {
      "text/html": [
       "<div>\n",
       "<style scoped>\n",
       "    .dataframe tbody tr th:only-of-type {\n",
       "        vertical-align: middle;\n",
       "    }\n",
       "\n",
       "    .dataframe tbody tr th {\n",
       "        vertical-align: top;\n",
       "    }\n",
       "\n",
       "    .dataframe thead th {\n",
       "        text-align: right;\n",
       "    }\n",
       "</style>\n",
       "<table border=\"1\" class=\"dataframe\">\n",
       "  <thead>\n",
       "    <tr style=\"text-align: right;\">\n",
       "      <th></th>\n",
       "      <th></th>\n",
       "      <th></th>\n",
       "      <th>number</th>\n",
       "      <th>expver</th>\n",
       "      <th>t2m</th>\n",
       "    </tr>\n",
       "    <tr>\n",
       "      <th>valid_time</th>\n",
       "      <th>latitude</th>\n",
       "      <th>longitude</th>\n",
       "      <th></th>\n",
       "      <th></th>\n",
       "      <th></th>\n",
       "    </tr>\n",
       "  </thead>\n",
       "  <tbody>\n",
       "    <tr>\n",
       "      <th rowspan=\"5\" valign=\"top\">1982-07-22</th>\n",
       "      <th rowspan=\"5\" valign=\"top\">90.00</th>\n",
       "      <th>0.00</th>\n",
       "      <td>0</td>\n",
       "      <td>0001</td>\n",
       "      <td>274.17</td>\n",
       "    </tr>\n",
       "    <tr>\n",
       "      <th>0.25</th>\n",
       "      <td>0</td>\n",
       "      <td>0001</td>\n",
       "      <td>274.17</td>\n",
       "    </tr>\n",
       "    <tr>\n",
       "      <th>0.50</th>\n",
       "      <td>0</td>\n",
       "      <td>0001</td>\n",
       "      <td>274.17</td>\n",
       "    </tr>\n",
       "    <tr>\n",
       "      <th>0.75</th>\n",
       "      <td>0</td>\n",
       "      <td>0001</td>\n",
       "      <td>274.17</td>\n",
       "    </tr>\n",
       "    <tr>\n",
       "      <th>1.00</th>\n",
       "      <td>0</td>\n",
       "      <td>0001</td>\n",
       "      <td>274.17</td>\n",
       "    </tr>\n",
       "  </tbody>\n",
       "</table>\n",
       "</div>"
      ],
      "text/plain": [
       "                               number expver                  t2m\n",
       "valid_time latitude longitude                                    \n",
       "1982-07-22 90.00    0.00            0   0001               274.17\n",
       "                    0.25            0   0001               274.17\n",
       "                    0.50            0   0001               274.17\n",
       "                    0.75            0   0001               274.17\n",
       "                    1.00            0   0001               274.17"
      ]
     },
     "execution_count": 16,
     "metadata": {},
     "output_type": "execute_result"
    }
   ],
   "source": [
    "df.head()"
   ]
  },
  {
   "cell_type": "markdown",
   "id": "8a7c8540-2eff-4d53-a96b-eb7501e4c9df",
   "metadata": {},
   "source": [
    "Everything is grouped by the centroids of 1,000,000 grid squares that are 0.25 decimal degrees on each side.\n",
    "\n",
    "You can reset it into a flat table the standard pandas way, reset_index."
   ]
  },
  {
   "cell_type": "code",
   "execution_count": 17,
   "id": "cad37a2f-2321-45df-8677-a84035df7fde",
   "metadata": {},
   "outputs": [],
   "source": [
    "df = df.reset_index()"
   ]
  },
  {
   "cell_type": "code",
   "execution_count": 18,
   "id": "ca69710a-8e18-4f99-999a-635818c8a56a",
   "metadata": {},
   "outputs": [
    {
     "data": {
      "text/html": [
       "<div>\n",
       "<style scoped>\n",
       "    .dataframe tbody tr th:only-of-type {\n",
       "        vertical-align: middle;\n",
       "    }\n",
       "\n",
       "    .dataframe tbody tr th {\n",
       "        vertical-align: top;\n",
       "    }\n",
       "\n",
       "    .dataframe thead th {\n",
       "        text-align: right;\n",
       "    }\n",
       "</style>\n",
       "<table border=\"1\" class=\"dataframe\">\n",
       "  <thead>\n",
       "    <tr style=\"text-align: right;\">\n",
       "      <th></th>\n",
       "      <th>valid_time</th>\n",
       "      <th>latitude</th>\n",
       "      <th>longitude</th>\n",
       "      <th>number</th>\n",
       "      <th>expver</th>\n",
       "      <th>t2m</th>\n",
       "    </tr>\n",
       "  </thead>\n",
       "  <tbody>\n",
       "    <tr>\n",
       "      <th>0</th>\n",
       "      <td>1982-07-22</td>\n",
       "      <td>90.00</td>\n",
       "      <td>0.00</td>\n",
       "      <td>0</td>\n",
       "      <td>0001</td>\n",
       "      <td>274.17</td>\n",
       "    </tr>\n",
       "    <tr>\n",
       "      <th>1</th>\n",
       "      <td>1982-07-22</td>\n",
       "      <td>90.00</td>\n",
       "      <td>0.25</td>\n",
       "      <td>0</td>\n",
       "      <td>0001</td>\n",
       "      <td>274.17</td>\n",
       "    </tr>\n",
       "    <tr>\n",
       "      <th>2</th>\n",
       "      <td>1982-07-22</td>\n",
       "      <td>90.00</td>\n",
       "      <td>0.50</td>\n",
       "      <td>0</td>\n",
       "      <td>0001</td>\n",
       "      <td>274.17</td>\n",
       "    </tr>\n",
       "    <tr>\n",
       "      <th>3</th>\n",
       "      <td>1982-07-22</td>\n",
       "      <td>90.00</td>\n",
       "      <td>0.75</td>\n",
       "      <td>0</td>\n",
       "      <td>0001</td>\n",
       "      <td>274.17</td>\n",
       "    </tr>\n",
       "    <tr>\n",
       "      <th>4</th>\n",
       "      <td>1982-07-22</td>\n",
       "      <td>90.00</td>\n",
       "      <td>1.00</td>\n",
       "      <td>0</td>\n",
       "      <td>0001</td>\n",
       "      <td>274.17</td>\n",
       "    </tr>\n",
       "  </tbody>\n",
       "</table>\n",
       "</div>"
      ],
      "text/plain": [
       "  valid_time             latitude            longitude  number expver  \\\n",
       "0 1982-07-22                90.00                 0.00       0   0001   \n",
       "1 1982-07-22                90.00                 0.25       0   0001   \n",
       "2 1982-07-22                90.00                 0.50       0   0001   \n",
       "3 1982-07-22                90.00                 0.75       0   0001   \n",
       "4 1982-07-22                90.00                 1.00       0   0001   \n",
       "\n",
       "                   t2m  \n",
       "0               274.17  \n",
       "1               274.17  \n",
       "2               274.17  \n",
       "3               274.17  \n",
       "4               274.17  "
      ]
     },
     "execution_count": 18,
     "metadata": {},
     "output_type": "execute_result"
    }
   ],
   "source": [
    "df.head()"
   ]
  },
  {
   "cell_type": "markdown",
   "id": "eec1f517-cec0-46ba-bb39-fd2eefef3d45",
   "metadata": {},
   "source": [
    "What's up with that temperature data? Those numbers are really big!"
   ]
  },
  {
   "cell_type": "code",
   "execution_count": 19,
   "id": "c5daf147-989e-41e1-994e-bfd454752581",
   "metadata": {},
   "outputs": [
    {
     "data": {
      "text/plain": [
       "<Axes: >"
      ]
     },
     "execution_count": 19,
     "metadata": {},
     "output_type": "execute_result"
    },
    {
     "data": {
      "image/png": "[encoded data removed]",
      "text/plain": [
       "<Figure size 640x480 with 1 Axes>"
      ]
     },
     "metadata": {},
     "output_type": "display_data"
    }
   ],
   "source": [
    "df.t2m.hist()"
   ]
  },
  {
   "cell_type": "markdown",
   "id": "25b389f4-8360-4b08-afc8-47706694404e",
   "metadata": {},
   "source": [
    "Oh. They're in [Kelvin](https://en.wikipedia.org/wiki/Kelvin). You might want to convert to something we're used to, like Celsius."
   ]
  },
  {
   "cell_type": "code",
   "execution_count": 20,
   "id": "4742494c-0c21-415f-8281-aa6e986459fe",
   "metadata": {},
   "outputs": [],
   "source": [
    "df[\"t2m\"] = df[\"t2m\"] - 273.15"
   ]
  },
  {
   "cell_type": "markdown",
   "id": "e77a8c90-1da6-4b21-b6f9-5113a82a6bdb",
   "metadata": {},
   "source": [
    "Look. Much better."
   ]
  },
  {
   "cell_type": "code",
   "execution_count": 21,
   "id": "c320d0dd-f2d3-4f8f-b823-c83c0de1165d",
   "metadata": {},
   "outputs": [
    {
     "data": {
      "text/plain": [
       "<Axes: >"
      ]
     },
     "execution_count": 21,
     "metadata": {},
     "output_type": "execute_result"
    },
    {
     "data": {
      "image/png": "[encoded data removed]",
      "text/plain": [
       "<Figure size 640x480 with 1 Axes>"
      ]
     },
     "metadata": {},
     "output_type": "display_data"
    }
   ],
   "source": [
    "df.t2m.hist()"
   ]
  },
  {
   "cell_type": "markdown",
   "id": "be38fff5-9718-4f01-9a02-2e0117b2f4fd",
   "metadata": {},
   "source": [
    "What's up with that valid time column?"
   ]
  },
  {
   "cell_type": "code",
   "execution_count": 22,
   "id": "8e2c9835-5904-434d-aa2e-a9e65eb19418",
   "metadata": {},
   "outputs": [
    {
     "data": {
      "text/html": [
       "<div>\n",
       "<style scoped>\n",
       "    .dataframe tbody tr th:only-of-type {\n",
       "        vertical-align: middle;\n",
       "    }\n",
       "\n",
       "    .dataframe tbody tr th {\n",
       "        vertical-align: top;\n",
       "    }\n",
       "\n",
       "    .dataframe thead th {\n",
       "        text-align: right;\n",
       "    }\n",
       "</style>\n",
       "<table border=\"1\" class=\"dataframe\">\n",
       "  <thead>\n",
       "    <tr style=\"text-align: right;\">\n",
       "      <th></th>\n",
       "      <th>valid_time</th>\n",
       "      <th>count</th>\n",
       "    </tr>\n",
       "  </thead>\n",
       "  <tbody>\n",
       "    <tr>\n",
       "      <th>0</th>\n",
       "      <td>1982-07-22 00:00:00</td>\n",
       "      <td>1038240</td>\n",
       "    </tr>\n",
       "    <tr>\n",
       "      <th>1</th>\n",
       "      <td>1982-07-22 01:00:00</td>\n",
       "      <td>1038240</td>\n",
       "    </tr>\n",
       "    <tr>\n",
       "      <th>2</th>\n",
       "      <td>1982-07-22 02:00:00</td>\n",
       "      <td>1038240</td>\n",
       "    </tr>\n",
       "    <tr>\n",
       "      <th>3</th>\n",
       "      <td>1982-07-22 03:00:00</td>\n",
       "      <td>1038240</td>\n",
       "    </tr>\n",
       "    <tr>\n",
       "      <th>4</th>\n",
       "      <td>1982-07-22 04:00:00</td>\n",
       "      <td>1038240</td>\n",
       "    </tr>\n",
       "    <tr>\n",
       "      <th>5</th>\n",
       "      <td>1982-07-22 05:00:00</td>\n",
       "      <td>1038240</td>\n",
       "    </tr>\n",
       "    <tr>\n",
       "      <th>6</th>\n",
       "      <td>1982-07-22 06:00:00</td>\n",
       "      <td>1038240</td>\n",
       "    </tr>\n",
       "    <tr>\n",
       "      <th>7</th>\n",
       "      <td>1982-07-22 07:00:00</td>\n",
       "      <td>1038240</td>\n",
       "    </tr>\n",
       "    <tr>\n",
       "      <th>8</th>\n",
       "      <td>1982-07-22 08:00:00</td>\n",
       "      <td>1038240</td>\n",
       "    </tr>\n",
       "    <tr>\n",
       "      <th>9</th>\n",
       "      <td>1982-07-22 09:00:00</td>\n",
       "      <td>1038240</td>\n",
       "    </tr>\n",
       "    <tr>\n",
       "      <th>10</th>\n",
       "      <td>1982-07-22 10:00:00</td>\n",
       "      <td>1038240</td>\n",
       "    </tr>\n",
       "    <tr>\n",
       "      <th>11</th>\n",
       "      <td>1982-07-22 11:00:00</td>\n",
       "      <td>1038240</td>\n",
       "    </tr>\n",
       "    <tr>\n",
       "      <th>12</th>\n",
       "      <td>1982-07-22 12:00:00</td>\n",
       "      <td>1038240</td>\n",
       "    </tr>\n",
       "    <tr>\n",
       "      <th>13</th>\n",
       "      <td>1982-07-22 13:00:00</td>\n",
       "      <td>1038240</td>\n",
       "    </tr>\n",
       "    <tr>\n",
       "      <th>14</th>\n",
       "      <td>1982-07-22 14:00:00</td>\n",
       "      <td>1038240</td>\n",
       "    </tr>\n",
       "    <tr>\n",
       "      <th>15</th>\n",
       "      <td>1982-07-22 15:00:00</td>\n",
       "      <td>1038240</td>\n",
       "    </tr>\n",
       "    <tr>\n",
       "      <th>16</th>\n",
       "      <td>1982-07-22 16:00:00</td>\n",
       "      <td>1038240</td>\n",
       "    </tr>\n",
       "    <tr>\n",
       "      <th>17</th>\n",
       "      <td>1982-07-22 17:00:00</td>\n",
       "      <td>1038240</td>\n",
       "    </tr>\n",
       "    <tr>\n",
       "      <th>18</th>\n",
       "      <td>1982-07-22 18:00:00</td>\n",
       "      <td>1038240</td>\n",
       "    </tr>\n",
       "    <tr>\n",
       "      <th>19</th>\n",
       "      <td>1982-07-22 19:00:00</td>\n",
       "      <td>1038240</td>\n",
       "    </tr>\n",
       "    <tr>\n",
       "      <th>20</th>\n",
       "      <td>1982-07-22 20:00:00</td>\n",
       "      <td>1038240</td>\n",
       "    </tr>\n",
       "    <tr>\n",
       "      <th>21</th>\n",
       "      <td>1982-07-22 21:00:00</td>\n",
       "      <td>1038240</td>\n",
       "    </tr>\n",
       "    <tr>\n",
       "      <th>22</th>\n",
       "      <td>1982-07-22 22:00:00</td>\n",
       "      <td>1038240</td>\n",
       "    </tr>\n",
       "    <tr>\n",
       "      <th>23</th>\n",
       "      <td>1982-07-22 23:00:00</td>\n",
       "      <td>1038240</td>\n",
       "    </tr>\n",
       "  </tbody>\n",
       "</table>\n",
       "</div>"
      ],
      "text/plain": [
       "            valid_time    count\n",
       "0  1982-07-22 00:00:00  1038240\n",
       "1  1982-07-22 01:00:00  1038240\n",
       "2  1982-07-22 02:00:00  1038240\n",
       "3  1982-07-22 03:00:00  1038240\n",
       "4  1982-07-22 04:00:00  1038240\n",
       "5  1982-07-22 05:00:00  1038240\n",
       "6  1982-07-22 06:00:00  1038240\n",
       "7  1982-07-22 07:00:00  1038240\n",
       "8  1982-07-22 08:00:00  1038240\n",
       "9  1982-07-22 09:00:00  1038240\n",
       "10 1982-07-22 10:00:00  1038240\n",
       "11 1982-07-22 11:00:00  1038240\n",
       "12 1982-07-22 12:00:00  1038240\n",
       "13 1982-07-22 13:00:00  1038240\n",
       "14 1982-07-22 14:00:00  1038240\n",
       "15 1982-07-22 15:00:00  1038240\n",
       "16 1982-07-22 16:00:00  1038240\n",
       "17 1982-07-22 17:00:00  1038240\n",
       "18 1982-07-22 18:00:00  1038240\n",
       "19 1982-07-22 19:00:00  1038240\n",
       "20 1982-07-22 20:00:00  1038240\n",
       "21 1982-07-22 21:00:00  1038240\n",
       "22 1982-07-22 22:00:00  1038240\n",
       "23 1982-07-22 23:00:00  1038240"
      ]
     },
     "execution_count": 22,
     "metadata": {},
     "output_type": "execute_result"
    }
   ],
   "source": [
    "df.valid_time.value_counts().reset_index()"
   ]
  },
  {
   "cell_type": "markdown",
   "id": "f083f8c1-de95-4a5d-8310-681bf30ed97a",
   "metadata": {},
   "source": [
    "## Aggregate\n",
    "\n",
    "It's hourly. So, as you'd expect, there are 24 rows. To get the daily high, low and average temperature, you can group and aggregate the data using pandas' standard techniques."
   ]
  },
  {
   "cell_type": "code",
   "execution_count": 23,
   "id": "03489b84-cbd5-401c-85aa-20da2da7355a",
   "metadata": {},
   "outputs": [],
   "source": [
    "daily_ranges = (\n",
    "    df.groupby([\"longitude\", \"latitude\"])\n",
    "    .agg({\"t2m\": [\"min\", \"mean\", \"max\", \"count\"]})\n",
    "    .reset_index()\n",
    ")"
   ]
  },
  {
   "cell_type": "code",
   "execution_count": 24,
   "id": "91d296e2-bd52-47d2-907e-5a934bd1c4ff",
   "metadata": {},
   "outputs": [
    {
     "data": {
      "text/html": [
       "<div>\n",
       "<style scoped>\n",
       "    .dataframe tbody tr th:only-of-type {\n",
       "        vertical-align: middle;\n",
       "    }\n",
       "\n",
       "    .dataframe tbody tr th {\n",
       "        vertical-align: top;\n",
       "    }\n",
       "\n",
       "    .dataframe thead tr th {\n",
       "        text-align: left;\n",
       "    }\n",
       "</style>\n",
       "<table border=\"1\" class=\"dataframe\">\n",
       "  <thead>\n",
       "    <tr>\n",
       "      <th></th>\n",
       "      <th>longitude</th>\n",
       "      <th>latitude</th>\n",
       "      <th colspan=\"4\" halign=\"left\">t2m</th>\n",
       "    </tr>\n",
       "    <tr>\n",
       "      <th></th>\n",
       "      <th></th>\n",
       "      <th></th>\n",
       "      <th>min</th>\n",
       "      <th>mean</th>\n",
       "      <th>max</th>\n",
       "      <th>count</th>\n",
       "    </tr>\n",
       "  </thead>\n",
       "  <tbody>\n",
       "    <tr>\n",
       "      <th>0</th>\n",
       "      <td>0.00</td>\n",
       "      <td>-90.00</td>\n",
       "      <td>-39.20</td>\n",
       "      <td>-37.74</td>\n",
       "      <td>-36.77</td>\n",
       "      <td>24</td>\n",
       "    </tr>\n",
       "    <tr>\n",
       "      <th>1</th>\n",
       "      <td>0.00</td>\n",
       "      <td>-89.75</td>\n",
       "      <td>-39.02</td>\n",
       "      <td>-37.47</td>\n",
       "      <td>-36.60</td>\n",
       "      <td>24</td>\n",
       "    </tr>\n",
       "    <tr>\n",
       "      <th>2</th>\n",
       "      <td>0.00</td>\n",
       "      <td>-89.50</td>\n",
       "      <td>-39.15</td>\n",
       "      <td>-37.35</td>\n",
       "      <td>-36.31</td>\n",
       "      <td>24</td>\n",
       "    </tr>\n",
       "    <tr>\n",
       "      <th>3</th>\n",
       "      <td>0.00</td>\n",
       "      <td>-89.25</td>\n",
       "      <td>-38.89</td>\n",
       "      <td>-37.01</td>\n",
       "      <td>-35.79</td>\n",
       "      <td>24</td>\n",
       "    </tr>\n",
       "    <tr>\n",
       "      <th>4</th>\n",
       "      <td>0.00</td>\n",
       "      <td>-89.00</td>\n",
       "      <td>-39.14</td>\n",
       "      <td>-36.87</td>\n",
       "      <td>-35.54</td>\n",
       "      <td>24</td>\n",
       "    </tr>\n",
       "  </tbody>\n",
       "</table>\n",
       "</div>"
      ],
      "text/plain": [
       "             longitude             latitude                  t2m  \\\n",
       "                                                             min   \n",
       "0                 0.00               -90.00               -39.20   \n",
       "1                 0.00               -89.75               -39.02   \n",
       "2                 0.00               -89.50               -39.15   \n",
       "3                 0.00               -89.25               -38.89   \n",
       "4                 0.00               -89.00               -39.14   \n",
       "\n",
       "                                                   \n",
       "                  mean                  max count  \n",
       "0               -37.74               -36.77    24  \n",
       "1               -37.47               -36.60    24  \n",
       "2               -37.35               -36.31    24  \n",
       "3               -37.01               -35.79    24  \n",
       "4               -36.87               -35.54    24  "
      ]
     },
     "execution_count": 24,
     "metadata": {},
     "output_type": "execute_result"
    }
   ],
   "source": [
    "daily_ranges.head()"
   ]
  },
  {
   "cell_type": "markdown",
   "id": "c240e78d-8ee0-4cb2-8ab0-1050235ed9db",
   "metadata": {},
   "source": [
    "It might be nice to clean up those columns, like so:"
   ]
  },
  {
   "cell_type": "code",
   "execution_count": 25,
   "id": "119a2d95-7510-4b50-b294-624bc8cb5100",
   "metadata": {},
   "outputs": [],
   "source": [
    "daily_ranges.columns = [\n",
    "    \"longitude\",\n",
    "    \"latitude\",\n",
    "    \"t2m_min\",\n",
    "    \"t2m_mean\",\n",
    "    \"t2m_max\",\n",
    "    \"n\",\n",
    "]"
   ]
  },
  {
   "cell_type": "markdown",
   "id": "a5f07d84-d0a3-4fd1-9046-41d35c4f8f00",
   "metadata": {},
   "source": [
    "## Gridding"
   ]
  },
  {
   "cell_type": "markdown",
   "id": "591e8b80-61f3-48f8-b449-d1e55adaa2eb",
   "metadata": {},
   "source": [
    "Let's take a look at those centroids."
   ]
  },
  {
   "cell_type": "code",
   "execution_count": 26,
   "id": "86e33013-1e4c-470f-a696-865884a5ea5f",
   "metadata": {},
   "outputs": [
    {
     "data": {
      "text/html": [
       "<div>\n",
       "<style scoped>\n",
       "    .dataframe tbody tr th:only-of-type {\n",
       "        vertical-align: middle;\n",
       "    }\n",
       "\n",
       "    .dataframe tbody tr th {\n",
       "        vertical-align: top;\n",
       "    }\n",
       "\n",
       "    .dataframe thead th {\n",
       "        text-align: right;\n",
       "    }\n",
       "</style>\n",
       "<table border=\"1\" class=\"dataframe\">\n",
       "  <thead>\n",
       "    <tr style=\"text-align: right;\">\n",
       "      <th></th>\n",
       "      <th>longitude</th>\n",
       "      <th>latitude</th>\n",
       "      <th>t2m_min</th>\n",
       "      <th>t2m_mean</th>\n",
       "      <th>t2m_max</th>\n",
       "      <th>n</th>\n",
       "    </tr>\n",
       "  </thead>\n",
       "  <tbody>\n",
       "    <tr>\n",
       "      <th>0</th>\n",
       "      <td>0.00</td>\n",
       "      <td>-90.00</td>\n",
       "      <td>-39.20</td>\n",
       "      <td>-37.74</td>\n",
       "      <td>-36.77</td>\n",
       "      <td>24</td>\n",
       "    </tr>\n",
       "    <tr>\n",
       "      <th>1</th>\n",
       "      <td>0.00</td>\n",
       "      <td>-89.75</td>\n",
       "      <td>-39.02</td>\n",
       "      <td>-37.47</td>\n",
       "      <td>-36.60</td>\n",
       "      <td>24</td>\n",
       "    </tr>\n",
       "    <tr>\n",
       "      <th>2</th>\n",
       "      <td>0.00</td>\n",
       "      <td>-89.50</td>\n",
       "      <td>-39.15</td>\n",
       "      <td>-37.35</td>\n",
       "      <td>-36.31</td>\n",
       "      <td>24</td>\n",
       "    </tr>\n",
       "    <tr>\n",
       "      <th>3</th>\n",
       "      <td>0.00</td>\n",
       "      <td>-89.25</td>\n",
       "      <td>-38.89</td>\n",
       "      <td>-37.01</td>\n",
       "      <td>-35.79</td>\n",
       "      <td>24</td>\n",
       "    </tr>\n",
       "    <tr>\n",
       "      <th>4</th>\n",
       "      <td>0.00</td>\n",
       "      <td>-89.00</td>\n",
       "      <td>-39.14</td>\n",
       "      <td>-36.87</td>\n",
       "      <td>-35.54</td>\n",
       "      <td>24</td>\n",
       "    </tr>\n",
       "  </tbody>\n",
       "</table>\n",
       "</div>"
      ],
      "text/plain": [
       "             longitude             latitude              t2m_min  \\\n",
       "0                 0.00               -90.00               -39.20   \n",
       "1                 0.00               -89.75               -39.02   \n",
       "2                 0.00               -89.50               -39.15   \n",
       "3                 0.00               -89.25               -38.89   \n",
       "4                 0.00               -89.00               -39.14   \n",
       "\n",
       "              t2m_mean              t2m_max   n  \n",
       "0               -37.74               -36.77  24  \n",
       "1               -37.47               -36.60  24  \n",
       "2               -37.35               -36.31  24  \n",
       "3               -37.01               -35.79  24  \n",
       "4               -36.87               -35.54  24  "
      ]
     },
     "execution_count": 26,
     "metadata": {},
     "output_type": "execute_result"
    }
   ],
   "source": [
    "daily_ranges.head()"
   ]
  },
  {
   "cell_type": "code",
   "execution_count": 27,
   "id": "c8cea44f-3f96-47d0-bc11-d1f51edaa45c",
   "metadata": {},
   "outputs": [
    {
     "data": {
      "text/html": [
       "<div>\n",
       "<style scoped>\n",
       "    .dataframe tbody tr th:only-of-type {\n",
       "        vertical-align: middle;\n",
       "    }\n",
       "\n",
       "    .dataframe tbody tr th {\n",
       "        vertical-align: top;\n",
       "    }\n",
       "\n",
       "    .dataframe thead th {\n",
       "        text-align: right;\n",
       "    }\n",
       "</style>\n",
       "<table border=\"1\" class=\"dataframe\">\n",
       "  <thead>\n",
       "    <tr style=\"text-align: right;\">\n",
       "      <th></th>\n",
       "      <th>longitude</th>\n",
       "      <th>latitude</th>\n",
       "      <th>t2m_min</th>\n",
       "      <th>t2m_mean</th>\n",
       "      <th>t2m_max</th>\n",
       "      <th>n</th>\n",
       "    </tr>\n",
       "  </thead>\n",
       "  <tbody>\n",
       "    <tr>\n",
       "      <th>1038235</th>\n",
       "      <td>359.75</td>\n",
       "      <td>89.00</td>\n",
       "      <td>0.36</td>\n",
       "      <td>0.63</td>\n",
       "      <td>0.96</td>\n",
       "      <td>24</td>\n",
       "    </tr>\n",
       "    <tr>\n",
       "      <th>1038236</th>\n",
       "      <td>359.75</td>\n",
       "      <td>89.25</td>\n",
       "      <td>0.37</td>\n",
       "      <td>0.60</td>\n",
       "      <td>0.94</td>\n",
       "      <td>24</td>\n",
       "    </tr>\n",
       "    <tr>\n",
       "      <th>1038237</th>\n",
       "      <td>359.75</td>\n",
       "      <td>89.50</td>\n",
       "      <td>0.38</td>\n",
       "      <td>0.58</td>\n",
       "      <td>0.89</td>\n",
       "      <td>24</td>\n",
       "    </tr>\n",
       "    <tr>\n",
       "      <th>1038238</th>\n",
       "      <td>359.75</td>\n",
       "      <td>89.75</td>\n",
       "      <td>0.38</td>\n",
       "      <td>0.59</td>\n",
       "      <td>0.88</td>\n",
       "      <td>24</td>\n",
       "    </tr>\n",
       "    <tr>\n",
       "      <th>1038239</th>\n",
       "      <td>359.75</td>\n",
       "      <td>90.00</td>\n",
       "      <td>0.43</td>\n",
       "      <td>0.72</td>\n",
       "      <td>1.02</td>\n",
       "      <td>24</td>\n",
       "    </tr>\n",
       "  </tbody>\n",
       "</table>\n",
       "</div>"
      ],
      "text/plain": [
       "                   longitude             latitude              t2m_min  \\\n",
       "1038235               359.75                89.00                 0.36   \n",
       "1038236               359.75                89.25                 0.37   \n",
       "1038237               359.75                89.50                 0.38   \n",
       "1038238               359.75                89.75                 0.38   \n",
       "1038239               359.75                90.00                 0.43   \n",
       "\n",
       "                    t2m_mean              t2m_max   n  \n",
       "1038235                 0.63                 0.96  24  \n",
       "1038236                 0.60                 0.94  24  \n",
       "1038237                 0.58                 0.89  24  \n",
       "1038238                 0.59                 0.88  24  \n",
       "1038239                 0.72                 1.02  24  "
      ]
     },
     "execution_count": 27,
     "metadata": {},
     "output_type": "execute_result"
    }
   ],
   "source": [
    "daily_ranges.tail()"
   ]
  },
  {
   "cell_type": "markdown",
   "id": "c4f8d849-3e79-4a04-9db6-f0e46aee063a",
   "metadata": {},
   "source": [
    "Wait a minute. What's up with the longitude column? We typically don't map from 0-360. We map from -180 to 180 with the prime meridian set to zero in Greenwich.\n",
    "\n",
    "That's not what's going on here."
   ]
  },
  {
   "cell_type": "code",
   "execution_count": 28,
   "id": "0ce92a3e-b542-4dfe-9356-83882b0e2be9",
   "metadata": {},
   "outputs": [
    {
     "data": {
      "text/plain": [
       "count           1,038,240.00\n",
       "mean                  179.88\n",
       "std                   103.92\n",
       "min                     0.00\n",
       "25%                    89.94\n",
       "50%                   179.88\n",
       "75%                   269.81\n",
       "max                   359.75\n",
       "Name: longitude, dtype: float64"
      ]
     },
     "execution_count": 28,
     "metadata": {},
     "output_type": "execute_result"
    }
   ],
   "source": [
    "daily_ranges.longitude.describe()"
   ]
  },
  {
   "cell_type": "markdown",
   "id": "cce7b8d2-f450-4a39-b3bd-8dcadf0d450c",
   "metadata": {},
   "source": [
    "So we need to convert it something our mapping tools will know how to use. Here's a trick."
   ]
  },
  {
   "cell_type": "code",
   "execution_count": 29,
   "id": "f7023f01-9f57-47cf-9c24-0febb628d53f",
   "metadata": {},
   "outputs": [],
   "source": [
    "def convert_longitude_to_180_scale(x: float | int) -> float | int:\n",
    "    \"\"\"Convert longitude values that run on 0-360 scale to a -180-180 scale.\n",
    "\n",
    "    Based on instructions published by the ECWMF at https://confluence.ecmwf.int/pages/viewpage.action?pageId=149337515\n",
    "\n",
    "    Args:\n",
    "        x (float | int): A longitude value on a scale that runs from 0-360.\n",
    "\n",
    "    Returns:\n",
    "        The value converted to a -180-180 scale.\n",
    "\n",
    "    Examples:\n",
    "        >>> convert_longitude_to_180_scale(0)\n",
    "        0\n",
    "        >>> convert_longitude_to_180_scale(180)\n",
    "        180\n",
    "        >>> convert_longitude_to_180_scale(181)\n",
    "        -179\n",
    "        >> convert_longitude_to_180_scale(360)\n",
    "        0\n",
    "    \"\"\"\n",
    "    return x - 360 if x > 180 else x"
   ]
  },
  {
   "cell_type": "code",
   "execution_count": 30,
   "id": "9c879f53-543e-4913-af06-52163b6ab8f6",
   "metadata": {},
   "outputs": [],
   "source": [
    "daily_ranges[\"longitude\"] = daily_ranges.longitude.apply(convert_longitude_to_180_scale)"
   ]
  },
  {
   "cell_type": "markdown",
   "id": "37a197de-dc20-447b-ac1a-d82e6eee0fc5",
   "metadata": {},
   "source": [
    "Okay, that's cool, but we want to map squares, not centroid dots, so we need to convert those coordinate pairs to polygons.\n",
    "\n",
    "First we generate a blank grid."
   ]
  },
  {
   "cell_type": "code",
   "execution_count": 31,
   "id": "9ec1f391-3dcd-4118-933f-dd74517b4fb8",
   "metadata": {},
   "outputs": [],
   "source": [
    "def create_polygon(x: float, y: float, width: float) -> Polygon:\n",
    "    \"\"\"Convert the provided centroid into a polygon using the provided width.\n",
    "\n",
    "    Parameters\n",
    "    ----------\n",
    "    x : float\n",
    "        The longitude centroid.\n",
    "    y : float\n",
    "        The latitude centroid.\n",
    "    width : float\n",
    "        The width of the polygon in degrees.\n",
    "\n",
    "    Returns\n",
    "    -------\n",
    "    Polygon\n",
    "        The polygon.\n",
    "\n",
    "    Examples\n",
    "    --------\n",
    "    >>> create_polygon(0, 0, 1)\n",
    "    POLYGON ((-0.5 0.5, 0.5 0.5, 0.5 -0.5, -0.5 -0.5, -0.5 0.5))\n",
    "    \"\"\"\n",
    "    half = width * 0.5\n",
    "    return Polygon(\n",
    "        [\n",
    "            [x - half, y + half],  # Upper left\n",
    "            [x + half, y + half],  # Upper right\n",
    "            [x + half, y - half],  # Lower right\n",
    "            [x - half, y - half],  # Lower left\n",
    "            [x - half, y + half],  # Upper left\n",
    "        ]\n",
    "    )"
   ]
  },
  {
   "cell_type": "code",
   "execution_count": 32,
   "id": "b771c291-0013-4c67-8494-da47c0546d16",
   "metadata": {},
   "outputs": [],
   "source": [
    "def get_grid_gdf(resolution_target: float = 0.25) -> gpd.GeoDataFrame:\n",
    "    \"\"\"Create a geospatial grid using the source latitude and longitude centroids.\n",
    "\n",
    "    Args:\n",
    "        resolution_target (float): The target resolution to regrid to. The default is 0.25, which matches the climatology.\n",
    "\n",
    "    Returns:\n",
    "        A geodataframe with the grid.\n",
    "    \"\"\"\n",
    "    # Set the range for our target resolution, which is the whole planet\n",
    "    longitude_range = np.arange(\n",
    "        -180 + resolution_target,  # The minimum longitude\n",
    "        180\n",
    "        + resolution_target,  # The maximum longitude, plus the target resolution, so that the maximum longitude is included\n",
    "        resolution_target,  # The target resolution, which is how far apart each point should be\n",
    "    )\n",
    "    latitude_range = np.arange(\n",
    "        -90,  # The minimum latitude\n",
    "        90\n",
    "        + resolution_target,  # The maximum latitude, plus the target resolution again.\n",
    "        resolution_target,  # You get the idea by now\n",
    "    )\n",
    "\n",
    "    # Combine them into a 2 dimensional grid that contains\n",
    "    # every combination of latitude and longitude\n",
    "    longitude_target, latitude_target = np.meshgrid(longitude_range, latitude_range)\n",
    "\n",
    "    # Create a new dataframe with the target latitude and longitude\n",
    "    # columns, and the columns we want to regrid\n",
    "    df = pd.DataFrame(\n",
    "        {\n",
    "            \"longitude\": longitude_target.ravel(),\n",
    "            \"latitude\": latitude_target.ravel(),\n",
    "        }\n",
    "    )\n",
    "\n",
    "    # Convert the centroids to grid cells\n",
    "    df[\"geometry\"] = df.apply(\n",
    "        lambda row: create_polygon(x=row.longitude, y=row.latitude, width=0.25),\n",
    "        axis=1,\n",
    "    )\n",
    "\n",
    "    # Convert the dataframe into a geodataframe\n",
    "    gdf = gpd.GeoDataFrame(df, geometry=\"geometry\")\n",
    "\n",
    "    # Return it\n",
    "    return gdf"
   ]
  },
  {
   "cell_type": "code",
   "execution_count": 33,
   "id": "d7d1131a-55cf-4118-a8de-4f984822d411",
   "metadata": {},
   "outputs": [],
   "source": [
    "grid_gdf = get_grid_gdf()"
   ]
  },
  {
   "cell_type": "markdown",
   "id": "dd6934ab-257f-4a3e-af69-b756b6daeea4",
   "metadata": {},
   "source": [
    "Then we merge it to our daily aggregates using the coordinate pairs."
   ]
  },
  {
   "cell_type": "code",
   "execution_count": 34,
   "id": "671330cd-3372-4ddb-8630-9b4a1e980bc7",
   "metadata": {},
   "outputs": [],
   "source": [
    "merged_df = pd.merge(daily_ranges, grid_gdf, on=[\"longitude\", \"latitude\"], how=\"right\")"
   ]
  },
  {
   "cell_type": "markdown",
   "id": "81546290-2c64-46ac-99ee-06cf07bf860f",
   "metadata": {},
   "source": [
    "That needs to be converted to a GeoDataFrame for Python to have GIS powers."
   ]
  },
  {
   "cell_type": "code",
   "execution_count": 35,
   "id": "6c4a8521-12fd-4849-8a9a-7e5fcbc93b7e",
   "metadata": {},
   "outputs": [],
   "source": [
    "merged_gdf = gpd.GeoDataFrame(merged_df)"
   ]
  },
  {
   "cell_type": "markdown",
   "id": "e5140f3b-3cb8-4808-add6-0c2110ca65a2",
   "metadata": {},
   "source": [
    "Let's take a little peek."
   ]
  },
  {
   "cell_type": "code",
   "execution_count": 36,
   "id": "a1e8ed92-1417-466c-8748-ce02fb626c24",
   "metadata": {},
   "outputs": [
    {
     "data": {
      "text/plain": [
       "<Axes: >"
      ]
     },
     "execution_count": 36,
     "metadata": {},
     "output_type": "execute_result"
    },
    {
     "data": {
      "image/png": "[encoded data removed]",
      "text/plain": [
       "<Figure size 640x480 with 1 Axes>"
      ]
     },
     "metadata": {},
     "output_type": "display_data"
    }
   ],
   "source": [
    "merged_gdf.plot(\"t2m_max\", cmap=\"viridis\")"
   ]
  },
  {
   "cell_type": "markdown",
   "id": "a738663a-edb2-4d32-95d3-46b822e1ff41",
   "metadata": {},
   "source": [
    "## Smoothing\n",
    "\n",
    "We can use a statistic method developed by the NSF to smooth out differences among neighboring squares."
   ]
  },
  {
   "cell_type": "markdown",
   "id": "cba101fa-af1e-45c3-8d2e-3ffeacf74cc0",
   "metadata": {},
   "source": [
    "First we trim down the dataframe to the variable we care about. Let's do high temperature."
   ]
  },
  {
   "cell_type": "code",
   "execution_count": 37,
   "id": "881bdfbe-c9a7-4aa1-909e-0e9c6adfabdd",
   "metadata": {},
   "outputs": [],
   "source": [
    "trimmed_df = daily_ranges[[\"longitude\", \"latitude\", \"t2m_max\"]].copy()"
   ]
  },
  {
   "cell_type": "markdown",
   "id": "aa29dd65-14c1-422e-84b8-db04bc18e529",
   "metadata": {},
   "source": [
    "Convert that back into xarray, which is what metpy expects. Remember this is their thing."
   ]
  },
  {
   "cell_type": "code",
   "execution_count": 38,
   "id": "5b0f0cd8-a144-45ff-9bd0-98ab26a3e3b7",
   "metadata": {},
   "outputs": [],
   "source": [
    "trimmed_ds = trimmed_df.set_index([\"longitude\", \"latitude\"]).to_xarray()"
   ]
  },
  {
   "cell_type": "markdown",
   "id": "1e058e4d-837f-4bc5-859d-e09e05ff7f61",
   "metadata": {},
   "source": [
    "Preprocess the data [the metpy way](https://unidata.github.io/MetPy/latest/tutorials/xarray_tutorial.html#units)"
   ]
  },
  {
   "cell_type": "code",
   "execution_count": 39,
   "id": "74be1069-cbb7-48c7-9ef2-f9bd29edfcee",
   "metadata": {},
   "outputs": [],
   "source": [
    "data = trimmed_ds[\"t2m_max\"].metpy.quantify()"
   ]
  },
  {
   "cell_type": "markdown",
   "id": "853ac9fb-3866-42ed-b5fd-a74f47131cda",
   "metadata": {},
   "source": [
    "Smooth the variable using [one of the textbook methods](https://unidata.github.io/MetPy/latest/api/generated/metpy.calc.smooth_gaussian.html) and a common input option"
   ]
  },
  {
   "cell_type": "code",
   "execution_count": 40,
   "id": "dbf79b32-258a-4426-a9bd-a553ea33ef45",
   "metadata": {},
   "outputs": [],
   "source": [
    "degree_of_filtering = 10\n",
    "smoothed = mpcalc.smooth_gaussian(data, degree_of_filtering)"
   ]
  },
  {
   "cell_type": "markdown",
   "id": "31d0532c-018c-4dca-8d98-f9a6e36dc5bc",
   "metadata": {},
   "source": [
    "Add the result back to the dataset"
   ]
  },
  {
   "cell_type": "code",
   "execution_count": 41,
   "id": "d56122e9-5edc-4b7f-9624-7a3c2733c38a",
   "metadata": {},
   "outputs": [],
   "source": [
    "trimmed_ds[\"smoothed\"] = ((\"longitude\", \"latitude\"), smoothed.data.magnitude)"
   ]
  },
  {
   "cell_type": "markdown",
   "id": "fe29a7fe-a66a-40df-b0a8-d4fb6b8449e6",
   "metadata": {},
   "source": [
    "Convert that back to a DataFrame"
   ]
  },
  {
   "cell_type": "code",
   "execution_count": 42,
   "id": "4c9cd2d9-e131-4b09-a5b0-28439820f51f",
   "metadata": {},
   "outputs": [],
   "source": [
    "smoothed_df = trimmed_ds.to_dataframe().reset_index()"
   ]
  },
  {
   "cell_type": "code",
   "execution_count": 43,
   "id": "38060880-08df-42ff-bf7b-93a0dd14d105",
   "metadata": {},
   "outputs": [
    {
     "data": {
      "text/html": [
       "<div>\n",
       "<style scoped>\n",
       "    .dataframe tbody tr th:only-of-type {\n",
       "        vertical-align: middle;\n",
       "    }\n",
       "\n",
       "    .dataframe tbody tr th {\n",
       "        vertical-align: top;\n",
       "    }\n",
       "\n",
       "    .dataframe thead th {\n",
       "        text-align: right;\n",
       "    }\n",
       "</style>\n",
       "<table border=\"1\" class=\"dataframe\">\n",
       "  <thead>\n",
       "    <tr style=\"text-align: right;\">\n",
       "      <th></th>\n",
       "      <th>longitude</th>\n",
       "      <th>latitude</th>\n",
       "      <th>t2m_max</th>\n",
       "      <th>smoothed</th>\n",
       "    </tr>\n",
       "  </thead>\n",
       "  <tbody>\n",
       "    <tr>\n",
       "      <th>0</th>\n",
       "      <td>-179.75</td>\n",
       "      <td>-90.00</td>\n",
       "      <td>-36.77</td>\n",
       "      <td>-37.25</td>\n",
       "    </tr>\n",
       "    <tr>\n",
       "      <th>1</th>\n",
       "      <td>-179.75</td>\n",
       "      <td>-89.75</td>\n",
       "      <td>-37.33</td>\n",
       "      <td>-37.51</td>\n",
       "    </tr>\n",
       "    <tr>\n",
       "      <th>2</th>\n",
       "      <td>-179.75</td>\n",
       "      <td>-89.50</td>\n",
       "      <td>-37.89</td>\n",
       "      <td>-37.98</td>\n",
       "    </tr>\n",
       "    <tr>\n",
       "      <th>3</th>\n",
       "      <td>-179.75</td>\n",
       "      <td>-89.25</td>\n",
       "      <td>-38.45</td>\n",
       "      <td>-38.55</td>\n",
       "    </tr>\n",
       "    <tr>\n",
       "      <th>4</th>\n",
       "      <td>-179.75</td>\n",
       "      <td>-89.00</td>\n",
       "      <td>-39.23</td>\n",
       "      <td>-39.12</td>\n",
       "    </tr>\n",
       "  </tbody>\n",
       "</table>\n",
       "</div>"
      ],
      "text/plain": [
       "             longitude             latitude              t2m_max  \\\n",
       "0              -179.75               -90.00               -36.77   \n",
       "1              -179.75               -89.75               -37.33   \n",
       "2              -179.75               -89.50               -37.89   \n",
       "3              -179.75               -89.25               -38.45   \n",
       "4              -179.75               -89.00               -39.23   \n",
       "\n",
       "              smoothed  \n",
       "0               -37.25  \n",
       "1               -37.51  \n",
       "2               -37.98  \n",
       "3               -38.55  \n",
       "4               -39.12  "
      ]
     },
     "execution_count": 43,
     "metadata": {},
     "output_type": "execute_result"
    }
   ],
   "source": [
    "smoothed_df.head()"
   ]
  },
  {
   "cell_type": "markdown",
   "id": "99be9b8c-0477-4332-914f-c791b21d4e24",
   "metadata": {},
   "source": [
    "Merge the geometries back on. We lose them along the way."
   ]
  },
  {
   "cell_type": "code",
   "execution_count": 48,
   "id": "21fbc7eb-b560-4eb2-866a-74b131ac54b9",
   "metadata": {},
   "outputs": [],
   "source": [
    "merged_gdf = gpd.GeoDataFrame(\n",
    "    pd.merge(smoothed_df, grid_gdf, on=[\"longitude\", \"latitude\"], how=\"right\")\n",
    ")"
   ]
  },
  {
   "cell_type": "code",
   "execution_count": 88,
   "id": "4e9ccd56-cb29-4624-a850-a9149c0b4c78",
   "metadata": {},
   "outputs": [
    {
     "data": {
      "text/plain": [
       "<Axes: >"
      ]
     },
     "execution_count": 88,
     "metadata": {},
     "output_type": "execute_result"
    },
    {
     "data": {
      "image/png": "[encoded data removed]",
      "text/plain": [
       "<Figure size 640x480 with 1 Axes>"
      ]
     },
     "metadata": {},
     "output_type": "display_data"
    }
   ],
   "source": [
    "merged_gdf.plot(\"smoothed\", cmap=\"viridis\")"
   ]
  },
  {
   "cell_type": "markdown",
   "id": "06324713-a468-4b34-b456-27e49dca82e6",
   "metadata": {},
   "source": [
    "## Dissolving\n",
    "\n",
    "That's awesome, but it will still take forever to run because we are mapping 1 million squares.\n",
    "\n",
    "We can address that a couple ways, one is to round our data to the nearest digit and bin them."
   ]
  },
  {
   "cell_type": "code",
   "execution_count": 49,
   "id": "c85a82a7-fc1f-4719-880c-0258291f1cd9",
   "metadata": {},
   "outputs": [],
   "source": [
    "merged_gdf[\"t2m_max_bin\"] = np.copysign(\n",
    "    np.ceil(np.abs(merged_gdf[\"smoothed\"])), merged_gdf[\"smoothed\"]\n",
    ")"
   ]
  },
  {
   "cell_type": "markdown",
   "id": "61ac96b2-299f-4b9f-bac4-19be5cafc439",
   "metadata": {},
   "source": [
    "Let's have a look at that."
   ]
  },
  {
   "cell_type": "code",
   "execution_count": 53,
   "id": "3f7dab35-20a8-4a6b-af22-bc9bf97fada3",
   "metadata": {},
   "outputs": [
    {
     "data": {
      "text/html": [
       "<div>\n",
       "<style scoped>\n",
       "    .dataframe tbody tr th:only-of-type {\n",
       "        vertical-align: middle;\n",
       "    }\n",
       "\n",
       "    .dataframe tbody tr th {\n",
       "        vertical-align: top;\n",
       "    }\n",
       "\n",
       "    .dataframe thead th {\n",
       "        text-align: right;\n",
       "    }\n",
       "</style>\n",
       "<table border=\"1\" class=\"dataframe\">\n",
       "  <thead>\n",
       "    <tr style=\"text-align: right;\">\n",
       "      <th></th>\n",
       "      <th>longitude</th>\n",
       "      <th>latitude</th>\n",
       "      <th>t2m_max</th>\n",
       "      <th>smoothed</th>\n",
       "      <th>geometry</th>\n",
       "      <th>t2m_max_bin</th>\n",
       "    </tr>\n",
       "  </thead>\n",
       "  <tbody>\n",
       "    <tr>\n",
       "      <th>0</th>\n",
       "      <td>-179.75</td>\n",
       "      <td>-90.00</td>\n",
       "      <td>-36.77</td>\n",
       "      <td>-37.25</td>\n",
       "      <td>POLYGON ((-179.875 -89.875, -179.625 -89.875, ...</td>\n",
       "      <td>-38.00</td>\n",
       "    </tr>\n",
       "    <tr>\n",
       "      <th>1</th>\n",
       "      <td>-179.50</td>\n",
       "      <td>-90.00</td>\n",
       "      <td>-36.77</td>\n",
       "      <td>-37.25</td>\n",
       "      <td>POLYGON ((-179.625 -89.875, -179.375 -89.875, ...</td>\n",
       "      <td>-38.00</td>\n",
       "    </tr>\n",
       "    <tr>\n",
       "      <th>2</th>\n",
       "      <td>-179.25</td>\n",
       "      <td>-90.00</td>\n",
       "      <td>-36.77</td>\n",
       "      <td>-37.25</td>\n",
       "      <td>POLYGON ((-179.375 -89.875, -179.125 -89.875, ...</td>\n",
       "      <td>-38.00</td>\n",
       "    </tr>\n",
       "    <tr>\n",
       "      <th>3</th>\n",
       "      <td>-179.00</td>\n",
       "      <td>-90.00</td>\n",
       "      <td>-36.77</td>\n",
       "      <td>-37.25</td>\n",
       "      <td>POLYGON ((-179.125 -89.875, -178.875 -89.875, ...</td>\n",
       "      <td>-38.00</td>\n",
       "    </tr>\n",
       "    <tr>\n",
       "      <th>4</th>\n",
       "      <td>-178.75</td>\n",
       "      <td>-90.00</td>\n",
       "      <td>-36.77</td>\n",
       "      <td>-37.25</td>\n",
       "      <td>POLYGON ((-178.875 -89.875, -178.625 -89.875, ...</td>\n",
       "      <td>-38.00</td>\n",
       "    </tr>\n",
       "    <tr>\n",
       "      <th>...</th>\n",
       "      <td>...</td>\n",
       "      <td>...</td>\n",
       "      <td>...</td>\n",
       "      <td>...</td>\n",
       "      <td>...</td>\n",
       "      <td>...</td>\n",
       "    </tr>\n",
       "    <tr>\n",
       "      <th>1038235</th>\n",
       "      <td>179.00</td>\n",
       "      <td>90.00</td>\n",
       "      <td>1.02</td>\n",
       "      <td>0.99</td>\n",
       "      <td>POLYGON ((178.875 90.125, 179.125 90.125, 179....</td>\n",
       "      <td>1.00</td>\n",
       "    </tr>\n",
       "    <tr>\n",
       "      <th>1038236</th>\n",
       "      <td>179.25</td>\n",
       "      <td>90.00</td>\n",
       "      <td>1.02</td>\n",
       "      <td>0.99</td>\n",
       "      <td>POLYGON ((179.125 90.125, 179.375 90.125, 179....</td>\n",
       "      <td>1.00</td>\n",
       "    </tr>\n",
       "    <tr>\n",
       "      <th>1038237</th>\n",
       "      <td>179.50</td>\n",
       "      <td>90.00</td>\n",
       "      <td>1.02</td>\n",
       "      <td>0.99</td>\n",
       "      <td>POLYGON ((179.375 90.125, 179.625 90.125, 179....</td>\n",
       "      <td>1.00</td>\n",
       "    </tr>\n",
       "    <tr>\n",
       "      <th>1038238</th>\n",
       "      <td>179.75</td>\n",
       "      <td>90.00</td>\n",
       "      <td>1.02</td>\n",
       "      <td>0.99</td>\n",
       "      <td>POLYGON ((179.625 90.125, 179.875 90.125, 179....</td>\n",
       "      <td>1.00</td>\n",
       "    </tr>\n",
       "    <tr>\n",
       "      <th>1038239</th>\n",
       "      <td>180.00</td>\n",
       "      <td>90.00</td>\n",
       "      <td>1.02</td>\n",
       "      <td>0.99</td>\n",
       "      <td>POLYGON ((179.875 90.125, 180.125 90.125, 180....</td>\n",
       "      <td>1.00</td>\n",
       "    </tr>\n",
       "  </tbody>\n",
       "</table>\n",
       "<p>1038240 rows × 6 columns</p>\n",
       "</div>"
      ],
      "text/plain": [
       "                   longitude             latitude              t2m_max  \\\n",
       "0                    -179.75               -90.00               -36.77   \n",
       "1                    -179.50               -90.00               -36.77   \n",
       "2                    -179.25               -90.00               -36.77   \n",
       "3                    -179.00               -90.00               -36.77   \n",
       "4                    -178.75               -90.00               -36.77   \n",
       "...                      ...                  ...                  ...   \n",
       "1038235               179.00                90.00                 1.02   \n",
       "1038236               179.25                90.00                 1.02   \n",
       "1038237               179.50                90.00                 1.02   \n",
       "1038238               179.75                90.00                 1.02   \n",
       "1038239               180.00                90.00                 1.02   \n",
       "\n",
       "                    smoothed  \\\n",
       "0                     -37.25   \n",
       "1                     -37.25   \n",
       "2                     -37.25   \n",
       "3                     -37.25   \n",
       "4                     -37.25   \n",
       "...                      ...   \n",
       "1038235                 0.99   \n",
       "1038236                 0.99   \n",
       "1038237                 0.99   \n",
       "1038238                 0.99   \n",
       "1038239                 0.99   \n",
       "\n",
       "                                                  geometry  \\\n",
       "0        POLYGON ((-179.875 -89.875, -179.625 -89.875, ...   \n",
       "1        POLYGON ((-179.625 -89.875, -179.375 -89.875, ...   \n",
       "2        POLYGON ((-179.375 -89.875, -179.125 -89.875, ...   \n",
       "3        POLYGON ((-179.125 -89.875, -178.875 -89.875, ...   \n",
       "4        POLYGON ((-178.875 -89.875, -178.625 -89.875, ...   \n",
       "...                                                    ...   \n",
       "1038235  POLYGON ((178.875 90.125, 179.125 90.125, 179....   \n",
       "1038236  POLYGON ((179.125 90.125, 179.375 90.125, 179....   \n",
       "1038237  POLYGON ((179.375 90.125, 179.625 90.125, 179....   \n",
       "1038238  POLYGON ((179.625 90.125, 179.875 90.125, 179....   \n",
       "1038239  POLYGON ((179.875 90.125, 180.125 90.125, 180....   \n",
       "\n",
       "                 t2m_max_bin  \n",
       "0                     -38.00  \n",
       "1                     -38.00  \n",
       "2                     -38.00  \n",
       "3                     -38.00  \n",
       "4                     -38.00  \n",
       "...                      ...  \n",
       "1038235                 1.00  \n",
       "1038236                 1.00  \n",
       "1038237                 1.00  \n",
       "1038238                 1.00  \n",
       "1038239                 1.00  \n",
       "\n",
       "[1038240 rows x 6 columns]"
      ]
     },
     "execution_count": 53,
     "metadata": {},
     "output_type": "execute_result"
    }
   ],
   "source": [
    "merged_gdf"
   ]
  },
  {
   "cell_type": "markdown",
   "id": "1449c817-cc6e-4950-8143-e1e7fe4b3ea1",
   "metadata": {},
   "source": [
    "And now we dissolve the polygons."
   ]
  },
  {
   "cell_type": "code",
   "execution_count": 54,
   "id": "9598b2a4-f350-4f16-abc9-6a556fb8a064",
   "metadata": {},
   "outputs": [],
   "source": [
    "dissolved = merged_gdf.dissolve(\"t2m_max_bin\").reset_index()[\n",
    "    [\"t2m_max_bin\", \"geometry\"]\n",
    "]"
   ]
  },
  {
   "cell_type": "code",
   "execution_count": 55,
   "id": "d7834831-a4c6-47c5-84cc-d51d16ca2a0d",
   "metadata": {},
   "outputs": [
    {
     "data": {
      "text/html": [
       "<div>\n",
       "<style scoped>\n",
       "    .dataframe tbody tr th:only-of-type {\n",
       "        vertical-align: middle;\n",
       "    }\n",
       "\n",
       "    .dataframe tbody tr th {\n",
       "        vertical-align: top;\n",
       "    }\n",
       "\n",
       "    .dataframe thead th {\n",
       "        text-align: right;\n",
       "    }\n",
       "</style>\n",
       "<table border=\"1\" class=\"dataframe\">\n",
       "  <thead>\n",
       "    <tr style=\"text-align: right;\">\n",
       "      <th></th>\n",
       "      <th>t2m_max_bin</th>\n",
       "      <th>geometry</th>\n",
       "    </tr>\n",
       "  </thead>\n",
       "  <tbody>\n",
       "    <tr>\n",
       "      <th>0</th>\n",
       "      <td>-62.00</td>\n",
       "      <td>POLYGON ((117.125 -75.375, 116.875 -75.375, 11...</td>\n",
       "    </tr>\n",
       "    <tr>\n",
       "      <th>1</th>\n",
       "      <td>-61.00</td>\n",
       "      <td>POLYGON ((112.375 -75.625, 112.125 -75.625, 11...</td>\n",
       "    </tr>\n",
       "    <tr>\n",
       "      <th>2</th>\n",
       "      <td>-60.00</td>\n",
       "      <td>POLYGON ((94.625 -76.125, 94.375 -76.125, 94.1...</td>\n",
       "    </tr>\n",
       "    <tr>\n",
       "      <th>3</th>\n",
       "      <td>-59.00</td>\n",
       "      <td>POLYGON ((92.625 -76.625, 92.375 -76.625, 92.1...</td>\n",
       "    </tr>\n",
       "    <tr>\n",
       "      <th>4</th>\n",
       "      <td>-58.00</td>\n",
       "      <td>MULTIPOLYGON (((90.125 -76.875, 89.875 -76.875...</td>\n",
       "    </tr>\n",
       "    <tr>\n",
       "      <th>...</th>\n",
       "      <td>...</td>\n",
       "      <td>...</td>\n",
       "    </tr>\n",
       "    <tr>\n",
       "      <th>106</th>\n",
       "      <td>45.00</td>\n",
       "      <td>MULTIPOLYGON (((-14.125 19.125, -14.125 19.375...</td>\n",
       "    </tr>\n",
       "    <tr>\n",
       "      <th>107</th>\n",
       "      <td>46.00</td>\n",
       "      <td>MULTIPOLYGON (((-14.375 20.625, -14.375 20.875...</td>\n",
       "    </tr>\n",
       "    <tr>\n",
       "      <th>108</th>\n",
       "      <td>47.00</td>\n",
       "      <td>MULTIPOLYGON (((-13.875 22.125, -13.625 22.125...</td>\n",
       "    </tr>\n",
       "    <tr>\n",
       "      <th>109</th>\n",
       "      <td>48.00</td>\n",
       "      <td>MULTIPOLYGON (((46.125 30.875, 46.125 31.125, ...</td>\n",
       "    </tr>\n",
       "    <tr>\n",
       "      <th>110</th>\n",
       "      <td>49.00</td>\n",
       "      <td>POLYGON ((47.125 30.625, 46.875 30.625, 46.875...</td>\n",
       "    </tr>\n",
       "  </tbody>\n",
       "</table>\n",
       "<p>111 rows × 2 columns</p>\n",
       "</div>"
      ],
      "text/plain": [
       "             t2m_max_bin                                           geometry\n",
       "0                 -62.00  POLYGON ((117.125 -75.375, 116.875 -75.375, 11...\n",
       "1                 -61.00  POLYGON ((112.375 -75.625, 112.125 -75.625, 11...\n",
       "2                 -60.00  POLYGON ((94.625 -76.125, 94.375 -76.125, 94.1...\n",
       "3                 -59.00  POLYGON ((92.625 -76.625, 92.375 -76.625, 92.1...\n",
       "4                 -58.00  MULTIPOLYGON (((90.125 -76.875, 89.875 -76.875...\n",
       "..                   ...                                                ...\n",
       "106                45.00  MULTIPOLYGON (((-14.125 19.125, -14.125 19.375...\n",
       "107                46.00  MULTIPOLYGON (((-14.375 20.625, -14.375 20.875...\n",
       "108                47.00  MULTIPOLYGON (((-13.875 22.125, -13.625 22.125...\n",
       "109                48.00  MULTIPOLYGON (((46.125 30.875, 46.125 31.125, ...\n",
       "110                49.00  POLYGON ((47.125 30.625, 46.875 30.625, 46.875...\n",
       "\n",
       "[111 rows x 2 columns]"
      ]
     },
     "execution_count": 55,
     "metadata": {},
     "output_type": "execute_result"
    }
   ],
   "source": [
    "dissolved"
   ]
  },
  {
   "cell_type": "code",
   "execution_count": 57,
   "id": "5ac5d7d6-b020-4093-a78f-88e528d69756",
   "metadata": {},
   "outputs": [
    {
     "name": "stderr",
     "output_type": "stream",
     "text": [
      "/home/palewire/Code/era5-climate-data-example/.venv/lib/python3.11/site-packages/pyogrio/geopandas.py:662: UserWarning: 'crs' was not provided.  The output dataset will not have projection information defined and may not be usable in other systems.\n",
      "  write(\n"
     ]
    }
   ],
   "source": [
    "dissolved.to_file(\"./data/era5-dissolved.geojson\", driver=\"GeoJSON\")"
   ]
  },
  {
   "cell_type": "markdown",
   "id": "08fc736e-35c8-48d7-87fb-61b9b61a57bc",
   "metadata": {},
   "source": [
    "Now you're ready to open it up in QGIS!"
   ]
  },
  {
   "cell_type": "markdown",
   "id": "726c26c8-cbb0-4849-b056-6bc559c50452",
   "metadata": {},
   "source": [
    "<img src=\"./data/qgis.png\" />"
   ]
  }
 ],
 "metadata": {
  "kernelspec": {
   "display_name": "Python 3 (ipykernel)",
   "language": "python",
   "name": "python3"
  },
  "language_info": {
   "codemirror_mode": {
    "name": "ipython",
    "version": 3
   },
   "file_extension": ".py",
   "mimetype": "text/x-python",
   "name": "python",
   "nbconvert_exporter": "python",
   "pygments_lexer": "ipython3",
   "version": "3.11.9"
  }
 },
 "nbformat": 4,
 "nbformat_minor": 5
}
